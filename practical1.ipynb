{
 "cells": [
  {
   "cell_type": "markdown",
   "metadata": {},
   "source": [
    "## Practical 1: word2vec\n",
    "<p>Oxford CS - Deep NLP 2017<br>\n",
    "https://www.cs.ox.ac.uk/teaching/courses/2016-2017/dl/</p>\n",
    "<p>[Yannis Assael, Brendan Shillingford, Chris Dyer]</p>"
   ]
  },
  {
   "cell_type": "markdown",
   "metadata": {},
   "source": [
    "This practical is presented as an IPython Notebook, with the code written for recent versions of **Python 3**. The code in this practical will not work with Python 2 unless you modify it. If you are using your own Python installation, ensure you have a setup identical to that described in the installation shell script (which is intended for use with the department lab machines). We will be unable to support installation on personal machines due to time constraints, so please use the lab machines and the setup script if you are unfamiliar with how to install Anaconda.\n",
    "\n",
    "To execute a notebook cell, press `shift-enter`. The return value of the last command will be displayed, if it is not `None`.\n",
    "\n",
    "Potentially useful library documentation, references, and resources:\n",
    "\n",
    "* IPython notebooks: <https://ipython.org/ipython-doc/3/notebook/notebook.html#introduction>\n",
    "* Numpy numerical array library: <https://docs.scipy.org/doc/>\n",
    "* Gensim's word2vec: <https://radimrehurek.com/gensim/models/word2vec.html>\n",
    "* Bokeh interactive plots: <http://bokeh.pydata.org/en/latest/> (we provide plotting code here, but click the thumbnails for more examples to copy-paste)\n",
    "* scikit-learn ML library (aka `sklearn`): <http://scikit-learn.org/stable/documentation.html>\n",
    "* nltk NLP toolkit: <http://www.nltk.org/>\n",
    "* tutorial for processing xml in python using `lxml`: <http://lxml.de/tutorial.html> (we did this for you below, but in case you need it in the future)"
   ]
  },
  {
   "cell_type": "code",
   "execution_count": 1,
   "metadata": {},
   "outputs": [],
   "source": [
    "import numpy as np\n",
    "import os\n",
    "from random import shuffle\n",
    "import re"
   ]
  },
  {
   "cell_type": "code",
   "execution_count": 2,
   "metadata": {},
   "outputs": [
    {
     "data": {
      "text/html": [
       "\n",
       "    <div class=\"bk-root\">\n",
       "        <a href=\"https://bokeh.pydata.org\" target=\"_blank\" class=\"bk-logo bk-logo-small bk-logo-notebook\"></a>\n",
       "        <span id=\"1001\">Loading BokehJS ...</span>\n",
       "    </div>"
      ]
     },
     "metadata": {},
     "output_type": "display_data"
    },
    {
     "data": {
      "application/javascript": [
       "\n",
       "(function(root) {\n",
       "  function now() {\n",
       "    return new Date();\n",
       "  }\n",
       "\n",
       "  var force = true;\n",
       "\n",
       "  if (typeof (root._bokeh_onload_callbacks) === \"undefined\" || force === true) {\n",
       "    root._bokeh_onload_callbacks = [];\n",
       "    root._bokeh_is_loading = undefined;\n",
       "  }\n",
       "\n",
       "  var JS_MIME_TYPE = 'application/javascript';\n",
       "  var HTML_MIME_TYPE = 'text/html';\n",
       "  var EXEC_MIME_TYPE = 'application/vnd.bokehjs_exec.v0+json';\n",
       "  var CLASS_NAME = 'output_bokeh rendered_html';\n",
       "\n",
       "  /**\n",
       "   * Render data to the DOM node\n",
       "   */\n",
       "  function render(props, node) {\n",
       "    var script = document.createElement(\"script\");\n",
       "    node.appendChild(script);\n",
       "  }\n",
       "\n",
       "  /**\n",
       "   * Handle when an output is cleared or removed\n",
       "   */\n",
       "  function handleClearOutput(event, handle) {\n",
       "    var cell = handle.cell;\n",
       "\n",
       "    var id = cell.output_area._bokeh_element_id;\n",
       "    var server_id = cell.output_area._bokeh_server_id;\n",
       "    // Clean up Bokeh references\n",
       "    if (id != null && id in Bokeh.index) {\n",
       "      Bokeh.index[id].model.document.clear();\n",
       "      delete Bokeh.index[id];\n",
       "    }\n",
       "\n",
       "    if (server_id !== undefined) {\n",
       "      // Clean up Bokeh references\n",
       "      var cmd = \"from bokeh.io.state import curstate; print(curstate().uuid_to_server['\" + server_id + \"'].get_sessions()[0].document.roots[0]._id)\";\n",
       "      cell.notebook.kernel.execute(cmd, {\n",
       "        iopub: {\n",
       "          output: function(msg) {\n",
       "            var id = msg.content.text.trim();\n",
       "            if (id in Bokeh.index) {\n",
       "              Bokeh.index[id].model.document.clear();\n",
       "              delete Bokeh.index[id];\n",
       "            }\n",
       "          }\n",
       "        }\n",
       "      });\n",
       "      // Destroy server and session\n",
       "      var cmd = \"import bokeh.io.notebook as ion; ion.destroy_server('\" + server_id + \"')\";\n",
       "      cell.notebook.kernel.execute(cmd);\n",
       "    }\n",
       "  }\n",
       "\n",
       "  /**\n",
       "   * Handle when a new output is added\n",
       "   */\n",
       "  function handleAddOutput(event, handle) {\n",
       "    var output_area = handle.output_area;\n",
       "    var output = handle.output;\n",
       "\n",
       "    // limit handleAddOutput to display_data with EXEC_MIME_TYPE content only\n",
       "    if ((output.output_type != \"display_data\") || (!output.data.hasOwnProperty(EXEC_MIME_TYPE))) {\n",
       "      return\n",
       "    }\n",
       "\n",
       "    var toinsert = output_area.element.find(\".\" + CLASS_NAME.split(' ')[0]);\n",
       "\n",
       "    if (output.metadata[EXEC_MIME_TYPE][\"id\"] !== undefined) {\n",
       "      toinsert[toinsert.length - 1].firstChild.textContent = output.data[JS_MIME_TYPE];\n",
       "      // store reference to embed id on output_area\n",
       "      output_area._bokeh_element_id = output.metadata[EXEC_MIME_TYPE][\"id\"];\n",
       "    }\n",
       "    if (output.metadata[EXEC_MIME_TYPE][\"server_id\"] !== undefined) {\n",
       "      var bk_div = document.createElement(\"div\");\n",
       "      bk_div.innerHTML = output.data[HTML_MIME_TYPE];\n",
       "      var script_attrs = bk_div.children[0].attributes;\n",
       "      for (var i = 0; i < script_attrs.length; i++) {\n",
       "        toinsert[toinsert.length - 1].firstChild.setAttribute(script_attrs[i].name, script_attrs[i].value);\n",
       "      }\n",
       "      // store reference to server id on output_area\n",
       "      output_area._bokeh_server_id = output.metadata[EXEC_MIME_TYPE][\"server_id\"];\n",
       "    }\n",
       "  }\n",
       "\n",
       "  function register_renderer(events, OutputArea) {\n",
       "\n",
       "    function append_mime(data, metadata, element) {\n",
       "      // create a DOM node to render to\n",
       "      var toinsert = this.create_output_subarea(\n",
       "        metadata,\n",
       "        CLASS_NAME,\n",
       "        EXEC_MIME_TYPE\n",
       "      );\n",
       "      this.keyboard_manager.register_events(toinsert);\n",
       "      // Render to node\n",
       "      var props = {data: data, metadata: metadata[EXEC_MIME_TYPE]};\n",
       "      render(props, toinsert[toinsert.length - 1]);\n",
       "      element.append(toinsert);\n",
       "      return toinsert\n",
       "    }\n",
       "\n",
       "    /* Handle when an output is cleared or removed */\n",
       "    events.on('clear_output.CodeCell', handleClearOutput);\n",
       "    events.on('delete.Cell', handleClearOutput);\n",
       "\n",
       "    /* Handle when a new output is added */\n",
       "    events.on('output_added.OutputArea', handleAddOutput);\n",
       "\n",
       "    /**\n",
       "     * Register the mime type and append_mime function with output_area\n",
       "     */\n",
       "    OutputArea.prototype.register_mime_type(EXEC_MIME_TYPE, append_mime, {\n",
       "      /* Is output safe? */\n",
       "      safe: true,\n",
       "      /* Index of renderer in `output_area.display_order` */\n",
       "      index: 0\n",
       "    });\n",
       "  }\n",
       "\n",
       "  // register the mime type if in Jupyter Notebook environment and previously unregistered\n",
       "  if (root.Jupyter !== undefined) {\n",
       "    var events = require('base/js/events');\n",
       "    var OutputArea = require('notebook/js/outputarea').OutputArea;\n",
       "\n",
       "    if (OutputArea.prototype.mime_types().indexOf(EXEC_MIME_TYPE) == -1) {\n",
       "      register_renderer(events, OutputArea);\n",
       "    }\n",
       "  }\n",
       "\n",
       "  \n",
       "  if (typeof (root._bokeh_timeout) === \"undefined\" || force === true) {\n",
       "    root._bokeh_timeout = Date.now() + 5000;\n",
       "    root._bokeh_failed_load = false;\n",
       "  }\n",
       "\n",
       "  var NB_LOAD_WARNING = {'data': {'text/html':\n",
       "     \"<div style='background-color: #fdd'>\\n\"+\n",
       "     \"<p>\\n\"+\n",
       "     \"BokehJS does not appear to have successfully loaded. If loading BokehJS from CDN, this \\n\"+\n",
       "     \"may be due to a slow or bad network connection. Possible fixes:\\n\"+\n",
       "     \"</p>\\n\"+\n",
       "     \"<ul>\\n\"+\n",
       "     \"<li>re-rerun `output_notebook()` to attempt to load from CDN again, or</li>\\n\"+\n",
       "     \"<li>use INLINE resources instead, as so:</li>\\n\"+\n",
       "     \"</ul>\\n\"+\n",
       "     \"<code>\\n\"+\n",
       "     \"from bokeh.resources import INLINE\\n\"+\n",
       "     \"output_notebook(resources=INLINE)\\n\"+\n",
       "     \"</code>\\n\"+\n",
       "     \"</div>\"}};\n",
       "\n",
       "  function display_loaded() {\n",
       "    var el = document.getElementById(\"1001\");\n",
       "    if (el != null) {\n",
       "      el.textContent = \"BokehJS is loading...\";\n",
       "    }\n",
       "    if (root.Bokeh !== undefined) {\n",
       "      if (el != null) {\n",
       "        el.textContent = \"BokehJS \" + root.Bokeh.version + \" successfully loaded.\";\n",
       "      }\n",
       "    } else if (Date.now() < root._bokeh_timeout) {\n",
       "      setTimeout(display_loaded, 100)\n",
       "    }\n",
       "  }\n",
       "\n",
       "\n",
       "  function run_callbacks() {\n",
       "    try {\n",
       "      root._bokeh_onload_callbacks.forEach(function(callback) { callback() });\n",
       "    }\n",
       "    finally {\n",
       "      delete root._bokeh_onload_callbacks\n",
       "    }\n",
       "    console.info(\"Bokeh: all callbacks have finished\");\n",
       "  }\n",
       "\n",
       "  function load_libs(js_urls, callback) {\n",
       "    root._bokeh_onload_callbacks.push(callback);\n",
       "    if (root._bokeh_is_loading > 0) {\n",
       "      console.log(\"Bokeh: BokehJS is being loaded, scheduling callback at\", now());\n",
       "      return null;\n",
       "    }\n",
       "    if (js_urls == null || js_urls.length === 0) {\n",
       "      run_callbacks();\n",
       "      return null;\n",
       "    }\n",
       "    console.log(\"Bokeh: BokehJS not loaded, scheduling load and callback at\", now());\n",
       "    root._bokeh_is_loading = js_urls.length;\n",
       "    for (var i = 0; i < js_urls.length; i++) {\n",
       "      var url = js_urls[i];\n",
       "      var s = document.createElement('script');\n",
       "      s.src = url;\n",
       "      s.async = false;\n",
       "      s.onreadystatechange = s.onload = function() {\n",
       "        root._bokeh_is_loading--;\n",
       "        if (root._bokeh_is_loading === 0) {\n",
       "          console.log(\"Bokeh: all BokehJS libraries loaded\");\n",
       "          run_callbacks()\n",
       "        }\n",
       "      };\n",
       "      s.onerror = function() {\n",
       "        console.warn(\"failed to load library \" + url);\n",
       "      };\n",
       "      console.log(\"Bokeh: injecting script tag for BokehJS library: \", url);\n",
       "      document.getElementsByTagName(\"head\")[0].appendChild(s);\n",
       "    }\n",
       "  };var element = document.getElementById(\"1001\");\n",
       "  if (element == null) {\n",
       "    console.log(\"Bokeh: ERROR: autoload.js configured with elementid '1001' but no matching script tag was found. \")\n",
       "    return false;\n",
       "  }\n",
       "\n",
       "  var js_urls = [\"https://cdn.pydata.org/bokeh/release/bokeh-1.0.2.min.js\", \"https://cdn.pydata.org/bokeh/release/bokeh-widgets-1.0.2.min.js\", \"https://cdn.pydata.org/bokeh/release/bokeh-tables-1.0.2.min.js\", \"https://cdn.pydata.org/bokeh/release/bokeh-gl-1.0.2.min.js\"];\n",
       "\n",
       "  var inline_js = [\n",
       "    function(Bokeh) {\n",
       "      Bokeh.set_log_level(\"info\");\n",
       "    },\n",
       "    \n",
       "    function(Bokeh) {\n",
       "      \n",
       "    },\n",
       "    function(Bokeh) {\n",
       "      console.log(\"Bokeh: injecting CSS: https://cdn.pydata.org/bokeh/release/bokeh-1.0.2.min.css\");\n",
       "      Bokeh.embed.inject_css(\"https://cdn.pydata.org/bokeh/release/bokeh-1.0.2.min.css\");\n",
       "      console.log(\"Bokeh: injecting CSS: https://cdn.pydata.org/bokeh/release/bokeh-widgets-1.0.2.min.css\");\n",
       "      Bokeh.embed.inject_css(\"https://cdn.pydata.org/bokeh/release/bokeh-widgets-1.0.2.min.css\");\n",
       "      console.log(\"Bokeh: injecting CSS: https://cdn.pydata.org/bokeh/release/bokeh-tables-1.0.2.min.css\");\n",
       "      Bokeh.embed.inject_css(\"https://cdn.pydata.org/bokeh/release/bokeh-tables-1.0.2.min.css\");\n",
       "    }\n",
       "  ];\n",
       "\n",
       "  function run_inline_js() {\n",
       "    \n",
       "    if ((root.Bokeh !== undefined) || (force === true)) {\n",
       "      for (var i = 0; i < inline_js.length; i++) {\n",
       "        inline_js[i].call(root, root.Bokeh);\n",
       "      }if (force === true) {\n",
       "        display_loaded();\n",
       "      }} else if (Date.now() < root._bokeh_timeout) {\n",
       "      setTimeout(run_inline_js, 100);\n",
       "    } else if (!root._bokeh_failed_load) {\n",
       "      console.log(\"Bokeh: BokehJS failed to load within specified timeout.\");\n",
       "      root._bokeh_failed_load = true;\n",
       "    } else if (force !== true) {\n",
       "      var cell = $(document.getElementById(\"1001\")).parents('.cell').data().cell;\n",
       "      cell.output_area.append_execute_result(NB_LOAD_WARNING)\n",
       "    }\n",
       "\n",
       "  }\n",
       "\n",
       "  if (root._bokeh_is_loading === 0) {\n",
       "    console.log(\"Bokeh: BokehJS loaded, going straight to plotting\");\n",
       "    run_inline_js();\n",
       "  } else {\n",
       "    load_libs(js_urls, function() {\n",
       "      console.log(\"Bokeh: BokehJS plotting callback run at\", now());\n",
       "      run_inline_js();\n",
       "    });\n",
       "  }\n",
       "}(window));"
      ],
      "application/vnd.bokehjs_load.v0+json": "\n(function(root) {\n  function now() {\n    return new Date();\n  }\n\n  var force = true;\n\n  if (typeof (root._bokeh_onload_callbacks) === \"undefined\" || force === true) {\n    root._bokeh_onload_callbacks = [];\n    root._bokeh_is_loading = undefined;\n  }\n\n  \n\n  \n  if (typeof (root._bokeh_timeout) === \"undefined\" || force === true) {\n    root._bokeh_timeout = Date.now() + 5000;\n    root._bokeh_failed_load = false;\n  }\n\n  var NB_LOAD_WARNING = {'data': {'text/html':\n     \"<div style='background-color: #fdd'>\\n\"+\n     \"<p>\\n\"+\n     \"BokehJS does not appear to have successfully loaded. If loading BokehJS from CDN, this \\n\"+\n     \"may be due to a slow or bad network connection. Possible fixes:\\n\"+\n     \"</p>\\n\"+\n     \"<ul>\\n\"+\n     \"<li>re-rerun `output_notebook()` to attempt to load from CDN again, or</li>\\n\"+\n     \"<li>use INLINE resources instead, as so:</li>\\n\"+\n     \"</ul>\\n\"+\n     \"<code>\\n\"+\n     \"from bokeh.resources import INLINE\\n\"+\n     \"output_notebook(resources=INLINE)\\n\"+\n     \"</code>\\n\"+\n     \"</div>\"}};\n\n  function display_loaded() {\n    var el = document.getElementById(\"1001\");\n    if (el != null) {\n      el.textContent = \"BokehJS is loading...\";\n    }\n    if (root.Bokeh !== undefined) {\n      if (el != null) {\n        el.textContent = \"BokehJS \" + root.Bokeh.version + \" successfully loaded.\";\n      }\n    } else if (Date.now() < root._bokeh_timeout) {\n      setTimeout(display_loaded, 100)\n    }\n  }\n\n\n  function run_callbacks() {\n    try {\n      root._bokeh_onload_callbacks.forEach(function(callback) { callback() });\n    }\n    finally {\n      delete root._bokeh_onload_callbacks\n    }\n    console.info(\"Bokeh: all callbacks have finished\");\n  }\n\n  function load_libs(js_urls, callback) {\n    root._bokeh_onload_callbacks.push(callback);\n    if (root._bokeh_is_loading > 0) {\n      console.log(\"Bokeh: BokehJS is being loaded, scheduling callback at\", now());\n      return null;\n    }\n    if (js_urls == null || js_urls.length === 0) {\n      run_callbacks();\n      return null;\n    }\n    console.log(\"Bokeh: BokehJS not loaded, scheduling load and callback at\", now());\n    root._bokeh_is_loading = js_urls.length;\n    for (var i = 0; i < js_urls.length; i++) {\n      var url = js_urls[i];\n      var s = document.createElement('script');\n      s.src = url;\n      s.async = false;\n      s.onreadystatechange = s.onload = function() {\n        root._bokeh_is_loading--;\n        if (root._bokeh_is_loading === 0) {\n          console.log(\"Bokeh: all BokehJS libraries loaded\");\n          run_callbacks()\n        }\n      };\n      s.onerror = function() {\n        console.warn(\"failed to load library \" + url);\n      };\n      console.log(\"Bokeh: injecting script tag for BokehJS library: \", url);\n      document.getElementsByTagName(\"head\")[0].appendChild(s);\n    }\n  };var element = document.getElementById(\"1001\");\n  if (element == null) {\n    console.log(\"Bokeh: ERROR: autoload.js configured with elementid '1001' but no matching script tag was found. \")\n    return false;\n  }\n\n  var js_urls = [\"https://cdn.pydata.org/bokeh/release/bokeh-1.0.2.min.js\", \"https://cdn.pydata.org/bokeh/release/bokeh-widgets-1.0.2.min.js\", \"https://cdn.pydata.org/bokeh/release/bokeh-tables-1.0.2.min.js\", \"https://cdn.pydata.org/bokeh/release/bokeh-gl-1.0.2.min.js\"];\n\n  var inline_js = [\n    function(Bokeh) {\n      Bokeh.set_log_level(\"info\");\n    },\n    \n    function(Bokeh) {\n      \n    },\n    function(Bokeh) {\n      console.log(\"Bokeh: injecting CSS: https://cdn.pydata.org/bokeh/release/bokeh-1.0.2.min.css\");\n      Bokeh.embed.inject_css(\"https://cdn.pydata.org/bokeh/release/bokeh-1.0.2.min.css\");\n      console.log(\"Bokeh: injecting CSS: https://cdn.pydata.org/bokeh/release/bokeh-widgets-1.0.2.min.css\");\n      Bokeh.embed.inject_css(\"https://cdn.pydata.org/bokeh/release/bokeh-widgets-1.0.2.min.css\");\n      console.log(\"Bokeh: injecting CSS: https://cdn.pydata.org/bokeh/release/bokeh-tables-1.0.2.min.css\");\n      Bokeh.embed.inject_css(\"https://cdn.pydata.org/bokeh/release/bokeh-tables-1.0.2.min.css\");\n    }\n  ];\n\n  function run_inline_js() {\n    \n    if ((root.Bokeh !== undefined) || (force === true)) {\n      for (var i = 0; i < inline_js.length; i++) {\n        inline_js[i].call(root, root.Bokeh);\n      }if (force === true) {\n        display_loaded();\n      }} else if (Date.now() < root._bokeh_timeout) {\n      setTimeout(run_inline_js, 100);\n    } else if (!root._bokeh_failed_load) {\n      console.log(\"Bokeh: BokehJS failed to load within specified timeout.\");\n      root._bokeh_failed_load = true;\n    } else if (force !== true) {\n      var cell = $(document.getElementById(\"1001\")).parents('.cell').data().cell;\n      cell.output_area.append_execute_result(NB_LOAD_WARNING)\n    }\n\n  }\n\n  if (root._bokeh_is_loading === 0) {\n    console.log(\"Bokeh: BokehJS loaded, going straight to plotting\");\n    run_inline_js();\n  } else {\n    load_libs(js_urls, function() {\n      console.log(\"Bokeh: BokehJS plotting callback run at\", now());\n      run_inline_js();\n    });\n  }\n}(window));"
     },
     "metadata": {},
     "output_type": "display_data"
    }
   ],
   "source": [
    "from bokeh.models import ColumnDataSource, LabelSet\n",
    "from bokeh.plotting import figure, show, output_file\n",
    "from bokeh.io import output_notebook\n",
    "output_notebook()"
   ]
  },
  {
   "cell_type": "markdown",
   "metadata": {},
   "source": [
    "### Part 0: Download the TED dataset"
   ]
  },
  {
   "cell_type": "code",
   "execution_count": 3,
   "metadata": {},
   "outputs": [],
   "source": [
    "import urllib.request\n",
    "import zipfile\n",
    "import lxml.etree"
   ]
  },
  {
   "cell_type": "code",
   "execution_count": 4,
   "metadata": {},
   "outputs": [],
   "source": [
    "# Download the dataset if it's not already there: this may take a minute as it is 75MB\n",
    "if not os.path.isfile('ted_en-20160408.zip'):\n",
    "    urllib.request.urlretrieve(\"https://wit3.fbk.eu/get.php?path=XML_releases/xml/ted_en-20160408.zip&filename=ted_en-20160408.zip\", filename=\"ted_en-20160408.zip\")"
   ]
  },
  {
   "cell_type": "code",
   "execution_count": 5,
   "metadata": {},
   "outputs": [],
   "source": [
    "# For now, we're only interested in the subtitle text, so let's extract that from the XML:\n",
    "with zipfile.ZipFile('ted_en-20160408.zip', 'r') as z:\n",
    "    doc = lxml.etree.parse(z.open('ted_en-20160408.xml', 'r'))\n",
    "input_text = '\\n'.join(doc.xpath('//content/text()'))\n",
    "del doc"
   ]
  },
  {
   "cell_type": "markdown",
   "metadata": {},
   "source": [
    "### Part 1: Preprocessing\n",
    "\n",
    "In this part, we attempt to clean up the raw subtitles a bit, so that we get only sentences. The following substring shows examples of what we're trying to get rid of. Since it's hard to define precisely what we want to get rid of, we'll just use some simple heuristics."
   ]
  },
  {
   "cell_type": "code",
   "execution_count": 6,
   "metadata": {
    "scrolled": false
   },
   "outputs": [
    {
     "data": {
      "text/plain": [
       "' baby does.\\n(Video) Hyowon Gweon: See this? (Ball squeaks) Did you see that? (Ball squeaks) Cool. See this one? (Ball squeaks) Wow.\\nLaura Schulz: Told you. (Laughs)\\n(Vide'"
      ]
     },
     "execution_count": 6,
     "metadata": {},
     "output_type": "execute_result"
    }
   ],
   "source": [
    "i = input_text.find(\"Hyowon Gweon: See this?\")\n",
    "input_text[i-20:i+150]"
   ]
  },
  {
   "cell_type": "markdown",
   "metadata": {},
   "source": [
    "Let's start by removing all parenthesized strings using a regex:"
   ]
  },
  {
   "cell_type": "code",
   "execution_count": 7,
   "metadata": {},
   "outputs": [],
   "source": [
    "input_text_noparens = re.sub(r'\\([^)]*\\)', '', input_text)"
   ]
  },
  {
   "cell_type": "markdown",
   "metadata": {},
   "source": [
    "We can verify the same location in the text is now clean as follows. We won't worry about the irregular spaces since we'll later split the text into sentences and tokenize it anyway."
   ]
  },
  {
   "cell_type": "code",
   "execution_count": 8,
   "metadata": {},
   "outputs": [
    {
     "data": {
      "text/plain": [
       "\"hat the baby does.\\n Hyowon Gweon: See this?  Did you see that?  Cool. See this one?  Wow.\\nLaura Schulz: Told you. \\n HG: See this one?  Hey Clara, this one's for you. You \""
      ]
     },
     "execution_count": 8,
     "metadata": {},
     "output_type": "execute_result"
    }
   ],
   "source": [
    "i = input_text_noparens.find(\"Hyowon Gweon: See this?\")\n",
    "input_text_noparens[i-20:i+150]"
   ]
  },
  {
   "cell_type": "markdown",
   "metadata": {},
   "source": [
    "Now, let's attempt to remove speakers' names that occur at the beginning of a line, by deleting pieces of the form \"`<up to 20 characters>:`\", as shown in this example. Of course, this is an imperfect heuristic. "
   ]
  },
  {
   "cell_type": "code",
   "execution_count": 9,
   "metadata": {},
   "outputs": [
    {
     "data": {
      "text/plain": [
       "[\"Here are two reasons companies fail: they only do more of the same, or they only do what's new\",\n",
       " 'To me the real, real solution to quality growth is figuring out the balance between two activities: exploration and exploitation',\n",
       " ' Both are necessary, but it can be too much of a good thing',\n",
       " 'Consider Facit',\n",
       " \" I'm actually old enough to remember them\"]"
      ]
     },
     "execution_count": 9,
     "metadata": {},
     "output_type": "execute_result"
    }
   ],
   "source": [
    "sentences_strings_ted = []\n",
    "for line in input_text_noparens.split('\\n'):\n",
    "    m = re.match(r'^(?:(?P<precolon>[^:]{,20}):)?(?P<postcolon>.*)$', line)\n",
    "    sentences_strings_ted.extend(sent for sent in m.groupdict()['postcolon'].split('.') if sent)\n",
    "\n",
    "# Uncomment if you need to save some RAM: these strings are about 50MB.\n",
    "# del input_text, input_text_noparens\n",
    "\n",
    "# Let's view the first few:\n",
    "sentences_strings_ted[:5]"
   ]
  },
  {
   "cell_type": "markdown",
   "metadata": {},
   "source": [
    "Now that we have sentences, we're ready to tokenize each of them into words. This tokenization is imperfect, of course. For instance, how many tokens is \"can't\", and where/how do we split it? We'll take the simplest naive approach of splitting on spaces. Before splitting, we remove non-alphanumeric characters, such as punctuation. You may want to consider the following question: why do we replace these characters with spaces rather than deleting them? Think of a case where this yields a different answer."
   ]
  },
  {
   "cell_type": "code",
   "execution_count": 10,
   "metadata": {},
   "outputs": [],
   "source": [
    "sentences_ted = []\n",
    "for sent_str in sentences_strings_ted:\n",
    "    tokens = re.sub(r\"[^a-z0-9]+\", \" \", sent_str.lower()).split()\n",
    "    sentences_ted.append(tokens)"
   ]
  },
  {
   "cell_type": "markdown",
   "metadata": {},
   "source": [
    "Two sample processed sentences:"
   ]
  },
  {
   "cell_type": "code",
   "execution_count": 11,
   "metadata": {},
   "outputs": [
    {
     "data": {
      "text/plain": [
       "266694"
      ]
     },
     "execution_count": 11,
     "metadata": {},
     "output_type": "execute_result"
    }
   ],
   "source": [
    "len(sentences_ted)"
   ]
  },
  {
   "cell_type": "code",
   "execution_count": 12,
   "metadata": {},
   "outputs": [
    {
     "name": "stdout",
     "output_type": "stream",
     "text": [
      "['here', 'are', 'two', 'reasons', 'companies', 'fail', 'they', 'only', 'do', 'more', 'of', 'the', 'same', 'or', 'they', 'only', 'do', 'what', 's', 'new']\n",
      "['to', 'me', 'the', 'real', 'real', 'solution', 'to', 'quality', 'growth', 'is', 'figuring', 'out', 'the', 'balance', 'between', 'two', 'activities', 'exploration', 'and', 'exploitation']\n"
     ]
    }
   ],
   "source": [
    "print(sentences_ted[0])\n",
    "print(sentences_ted[1])"
   ]
  },
  {
   "cell_type": "markdown",
   "metadata": {},
   "source": [
    "### Part 2: Word Frequencies"
   ]
  },
  {
   "cell_type": "markdown",
   "metadata": {},
   "source": [
    "If you store the counts of the top 1000 words in a list called `counts_ted_top1000`, the code below will plot the histogram requested in the writeup."
   ]
  },
  {
   "cell_type": "code",
   "execution_count": 42,
   "metadata": {},
   "outputs": [],
   "source": [
    "# ...\n",
    "import collections\n",
    "from itertools import chain\n",
    "\n",
    "# tokens = np.array(sentences_ted)\n",
    "tokens_flat = list(chain.from_iterable(sentences_ted))\n",
    "# print(tokens_flat)\n",
    "c = collections.Counter(tokens_flat)\n",
    "\n",
    "counts_ted_top1000 = []\n",
    "words_top_ted = []\n",
    "for word, count in c.most_common(1000):\n",
    "    words_top_ted.append(word)\n",
    "    counts_ted_top1000.append(count)\n",
    "    \n",
    "# print(counts_ted_top1000)\n",
    "# print(words_top_ted)"
   ]
  },
  {
   "cell_type": "markdown",
   "metadata": {},
   "source": [
    "Plot distribution of top-1000 words"
   ]
  },
  {
   "cell_type": "code",
   "execution_count": 43,
   "metadata": {},
   "outputs": [
    {
     "data": {
      "text/html": [
       "\n",
       "\n",
       "\n",
       "\n",
       "\n",
       "\n",
       "  <div class=\"bk-root\" id=\"b130c2ff-f7fc-434a-a69f-3c2d679feedd\"></div>\n"
      ]
     },
     "metadata": {},
     "output_type": "display_data"
    },
    {
     "data": {
      "application/javascript": [
       "(function(root) {\n",
       "  function embed_document(root) {\n",
       "    \n",
       "  var docs_json = {\"2cf9fd5d-6008-4fac-9013-bcd01a484db4\":{\"roots\":{\"references\":[{\"attributes\":{\"below\":[{\"id\":\"1286\",\"type\":\"LinearAxis\"}],\"left\":[{\"id\":\"1291\",\"type\":\"LinearAxis\"}],\"renderers\":[{\"id\":\"1286\",\"type\":\"LinearAxis\"},{\"id\":\"1290\",\"type\":\"Grid\"},{\"id\":\"1291\",\"type\":\"LinearAxis\"},{\"id\":\"1295\",\"type\":\"Grid\"},{\"id\":\"1308\",\"type\":\"GlyphRenderer\"}],\"title\":{\"id\":\"1275\",\"type\":\"Title\"},\"toolbar\":{\"id\":\"1300\",\"type\":\"Toolbar\"},\"toolbar_location\":\"above\",\"x_range\":{\"id\":\"1278\",\"type\":\"DataRange1d\"},\"x_scale\":{\"id\":\"1282\",\"type\":\"LinearScale\"},\"y_range\":{\"id\":\"1280\",\"type\":\"DataRange1d\"},\"y_scale\":{\"id\":\"1284\",\"type\":\"LinearScale\"}},\"id\":\"1276\",\"subtype\":\"Figure\",\"type\":\"Plot\"},{\"attributes\":{},\"id\":\"1296\",\"type\":\"PanTool\"},{\"attributes\":{},\"id\":\"1334\",\"type\":\"BasicTickFormatter\"},{\"attributes\":{},\"id\":\"1297\",\"type\":\"WheelZoomTool\"},{\"attributes\":{},\"id\":\"1298\",\"type\":\"ResetTool\"},{\"attributes\":{},\"id\":\"1299\",\"type\":\"SaveTool\"},{\"attributes\":{\"callback\":null,\"data\":{\"left\":{\"__ndarray__\":\"AAAAAABAeUB7FK5H4VqjQHsUrkfhxrFAuB6F61HguUB7FK5H4fzAQJqZmZmZCcVAuB6F61EWyUDXo3A9CiPNQHsUrkfhl9BACtejcD2e0kCamZmZmaTUQClcj8L1qtZAuB6F61Gx2EBI4XoUrrfaQNejcD0KvtxAZ2ZmZmbE3kB7FK5HYWXgQMP1KFyPaOFACtejcL1r4kBSuB6F627jQJqZmZkZcuRA4XoUrkd15UApXI/CdXjmQHE9Cteje+dAuB6F69F+6EAAAAAAAILpQEjhehQuhepAkML1KFyI60DXo3A9iovsQB+F61G4ju1AZ2ZmZuaR7kCuR+F6FJXvQHsUrkchTPBAH4XrUbjN8EDD9ShcT0/xQGdmZmbm0PFACtejcH1S8kCuR+F6FNTyQFK4HoWrVfNA9ihcj0LX80CamZmZ2Vj0QD4K16Nw2vRA4XoUrgdc9UCF61G4nt31QClcj8I1X/ZAzczMzMzg9kBxPQrXY2L3QBWuR+H64/dAuB6F65Fl+EBcj8L1KOf4QAAAAADAaPlApHA9Clfq+UBI4XoU7mv6QOxRuB6F7fpAkML1KBxv+0AzMzMzs/D7QNejcD1KcvxAexSuR+Hz/EAfhetReHX9QMP1KFwP9/1AZ2ZmZqZ4/kAK16NwPfr+QK5H4XrUe/9AUrgehWv9/0B7FK5HgT8AQc3MzMxMgABBH4XrURjBAEFxPQrX4wEBQcP1KFyvQgFBFa5H4XqDAUFnZmZmRsQBQbgehesRBQJBCtejcN1FAkFcj8L1qIYCQa5H4Xp0xwJBAAAAAEAIA0FSuB6FC0kDQaRwPQrXiQNB9ihcj6LKA0FI4XoUbgsEQZqZmZk5TARB7FG4HgWNBEE+Ctej0M0EQZDC9SicDgVB4XoUrmdPBUEzMzMzM5AFQYXrUbj+0AVB16NwPcoRBkEpXI/ClVIGQXsUrkdhkwZBzczMzCzUBkEfhetR+BQHQXE9CtfDVQdBw/UoXI+WB0EVrkfhWtcHQWdmZmYmGAhBuB6F6/FYCEEK16NwvZkIQVyPwvWI2ghBrkfhelQbCUE=\",\"dtype\":\"float64\",\"shape\":[100]},\"right\":{\"__ndarray__\":\"exSuR+Fao0B7FK5H4caxQLgehetR4LlAexSuR+H8wECamZmZmQnFQLgehetRFslA16NwPQojzUB7FK5H4ZfQQArXo3A9ntJAmpmZmZmk1EApXI/C9arWQLgehetRsdhASOF6FK632kDXo3A9Cr7cQGdmZmZmxN5AexSuR2Fl4EDD9Shcj2jhQArXo3C9a+JAUrgehetu40CamZmZGXLkQOF6FK5HdeVAKVyPwnV45kBxPQrXo3vnQLgehevRfuhAAAAAAACC6UBI4XoULoXqQJDC9ShciOtA16NwPYqL7EAfhetRuI7tQGdmZmbmke5ArkfhehSV70B7FK5HIUzwQB+F61G4zfBAw/UoXE9P8UBnZmZm5tDxQArXo3B9UvJArkfhehTU8kBSuB6Fq1XzQPYoXI9C1/NAmpmZmdlY9EA+CtejcNr0QOF6FK4HXPVAhetRuJ7d9UApXI/CNV/2QM3MzMzM4PZAcT0K12Ni90AVrkfh+uP3QLgeheuRZfhAXI/C9Sjn+EAAAAAAwGj5QKRwPQpX6vlASOF6FO5r+kDsUbgehe36QJDC9Sgcb/tAMzMzM7Pw+0DXo3A9SnL8QHsUrkfh8/xAH4XrUXh1/UDD9ShcD/f9QGdmZmameP5ACtejcD36/kCuR+F61Hv/QFK4HoVr/f9AexSuR4E/AEHNzMzMTIAAQR+F61EYwQBBcT0K1+MBAUHD9Shcr0IBQRWuR+F6gwFBZ2ZmZkbEAUG4HoXrEQUCQQrXo3DdRQJBXI/C9aiGAkGuR+F6dMcCQQAAAABACANBUrgehQtJA0GkcD0K14kDQfYoXI+iygNBSOF6FG4LBEGamZmZOUwEQexRuB4FjQRBPgrXo9DNBEGQwvUonA4FQeF6FK5nTwVBMzMzMzOQBUGF61G4/tAFQdejcD3KEQZBKVyPwpVSBkF7FK5HYZMGQc3MzMws1AZBH4XrUfgUB0FxPQrXw1UHQcP1KFyPlgdBFa5H4VrXB0FnZmZmJhgIQbgehevxWAhBCtejcL2ZCEFcj8L1iNoIQa5H4XpUGwlBAAAAACBcCUE=\",\"dtype\":\"float64\",\"shape\":[100]},\"top\":{\"__ndarray__\":\"50H1zNSBOT/ypb1tgHIBPwsriUb5Uew+zuTFiLI04j78kGUPxTHhPh40R25oQNY+zuTFiLI00j4pPQWW1y7APsTbB2FDRsg+JT0FltcuwD4tPQWW1y6wPi09BZbXLrA+JT0FltcuwD4tPQWW1y6gPiU9BZbXLrA+LT0FltcuoD4AAAAAAAAAADU9BZbXLqA+AAAAAAAAAAAAAAAAAAAAAAAAAAAAAAAAAAAAAAAAAAAAAAAAAAAAADU9BZbXLqA+AAAAAAAAAAAAAAAAAAAAAAAAAAAAAAAANT0FltcuoD4AAAAAAAAAAAAAAAAAAAAANT0FltcuoD4AAAAAAAAAACU9BZbXLqA+AAAAAAAAAAAlPQWW1y6gPkU9BZbXLqA+AAAAAAAAAAAlPQWW1y6gPgAAAAAAAAAAJT0FltcuoD4AAAAAAAAAAAAAAAAAAAAAAAAAAAAAAAAAAAAAAAAAAAAAAAAAAAAAJT0FltcuoD4AAAAAAAAAAAAAAAAAAAAAAAAAAAAAAAAAAAAAAAAAACU9BZbXLqA+AAAAAAAAAAAAAAAAAAAAAAAAAAAAAAAAAAAAAAAAAAAlPQWW1y6gPgAAAAAAAAAAAAAAAAAAAAAAAAAAAAAAAAAAAAAAAAAART0FltcuoD4AAAAAAAAAAAAAAAAAAAAAAAAAAAAAAAAAAAAAAAAAAAAAAAAAAAAAAAAAAAAAAAAAAAAAAAAAAAAAAAAAAAAAAAAAAAAAAAAAAAAAAAAAACU9BZbXLqA+AAAAAAAAAAAAAAAAAAAAAAAAAAAAAAAAAAAAAAAAAAAAAAAAAAAAAAAAAAAAAAAAAAAAAAAAAAAAAAAAAAAAAAAAAAAAAAAAAAAAAAAAAAAAAAAAAAAAAAAAAAAAAAAAAAAAAAAAAAAAAAAAAAAAAAAAAAAAAAAAAAAAAAAAAAAAAAAAAAAAAAAAAAAAAAAAAAAAAAAAAAAAAAAAAAAAAAAAAAAAAAAAAAAAAAAAAAAAAAAAAAAAAAAAAAAAAAAAAAAAAAAAAAAAAAAAAAAAAAAAAAAAAAAAJT0FltcuoD4=\",\"dtype\":\"float64\",\"shape\":[100]}},\"selected\":{\"id\":\"1337\",\"type\":\"Selection\"},\"selection_policy\":{\"id\":\"1336\",\"type\":\"UnionRenderers\"}},\"id\":\"1305\",\"type\":\"ColumnDataSource\"},{\"attributes\":{\"bottom\":{\"value\":0},\"fill_alpha\":{\"value\":0.1},\"fill_color\":{\"value\":\"#1f77b4\"},\"left\":{\"field\":\"left\"},\"line_alpha\":{\"value\":0.1},\"line_color\":{\"value\":\"#1f77b4\"},\"right\":{\"field\":\"right\"},\"top\":{\"field\":\"top\"}},\"id\":\"1307\",\"type\":\"Quad\"},{\"attributes\":{\"plot\":null,\"text\":\"Top-1000 words distribution\"},\"id\":\"1275\",\"type\":\"Title\"},{\"attributes\":{\"data_source\":{\"id\":\"1305\",\"type\":\"ColumnDataSource\"},\"glyph\":{\"id\":\"1306\",\"type\":\"Quad\"},\"hover_glyph\":null,\"muted_glyph\":null,\"nonselection_glyph\":{\"id\":\"1307\",\"type\":\"Quad\"},\"selection_glyph\":null,\"view\":{\"id\":\"1309\",\"type\":\"CDSView\"}},\"id\":\"1308\",\"type\":\"GlyphRenderer\"},{\"attributes\":{\"active_drag\":\"auto\",\"active_inspect\":\"auto\",\"active_multi\":null,\"active_scroll\":\"auto\",\"active_tap\":\"auto\",\"tools\":[{\"id\":\"1296\",\"type\":\"PanTool\"},{\"id\":\"1297\",\"type\":\"WheelZoomTool\"},{\"id\":\"1298\",\"type\":\"ResetTool\"},{\"id\":\"1299\",\"type\":\"SaveTool\"}]},\"id\":\"1300\",\"type\":\"Toolbar\"},{\"attributes\":{\"callback\":null},\"id\":\"1278\",\"type\":\"DataRange1d\"},{\"attributes\":{\"source\":{\"id\":\"1305\",\"type\":\"ColumnDataSource\"}},\"id\":\"1309\",\"type\":\"CDSView\"},{\"attributes\":{\"callback\":null},\"id\":\"1280\",\"type\":\"DataRange1d\"},{\"attributes\":{},\"id\":\"1282\",\"type\":\"LinearScale\"},{\"attributes\":{},\"id\":\"1337\",\"type\":\"Selection\"},{\"attributes\":{},\"id\":\"1284\",\"type\":\"LinearScale\"},{\"attributes\":{\"formatter\":{\"id\":\"1332\",\"type\":\"BasicTickFormatter\"},\"plot\":{\"id\":\"1276\",\"subtype\":\"Figure\",\"type\":\"Plot\"},\"ticker\":{\"id\":\"1287\",\"type\":\"BasicTicker\"}},\"id\":\"1286\",\"type\":\"LinearAxis\"},{\"attributes\":{},\"id\":\"1287\",\"type\":\"BasicTicker\"},{\"attributes\":{\"plot\":{\"id\":\"1276\",\"subtype\":\"Figure\",\"type\":\"Plot\"},\"ticker\":{\"id\":\"1287\",\"type\":\"BasicTicker\"}},\"id\":\"1290\",\"type\":\"Grid\"},{\"attributes\":{\"formatter\":{\"id\":\"1334\",\"type\":\"BasicTickFormatter\"},\"plot\":{\"id\":\"1276\",\"subtype\":\"Figure\",\"type\":\"Plot\"},\"ticker\":{\"id\":\"1292\",\"type\":\"BasicTicker\"}},\"id\":\"1291\",\"type\":\"LinearAxis\"},{\"attributes\":{},\"id\":\"1332\",\"type\":\"BasicTickFormatter\"},{\"attributes\":{},\"id\":\"1292\",\"type\":\"BasicTicker\"},{\"attributes\":{\"dimension\":1,\"plot\":{\"id\":\"1276\",\"subtype\":\"Figure\",\"type\":\"Plot\"},\"ticker\":{\"id\":\"1292\",\"type\":\"BasicTicker\"}},\"id\":\"1295\",\"type\":\"Grid\"},{\"attributes\":{},\"id\":\"1336\",\"type\":\"UnionRenderers\"},{\"attributes\":{\"bottom\":{\"value\":0},\"fill_color\":{\"value\":\"#1f77b4\"},\"left\":{\"field\":\"left\"},\"line_color\":{\"value\":\"#555555\"},\"right\":{\"field\":\"right\"},\"top\":{\"field\":\"top\"}},\"id\":\"1306\",\"type\":\"Quad\"}],\"root_ids\":[\"1276\"]},\"title\":\"Bokeh Application\",\"version\":\"1.0.2\"}};\n",
       "  var render_items = [{\"docid\":\"2cf9fd5d-6008-4fac-9013-bcd01a484db4\",\"roots\":{\"1276\":\"b130c2ff-f7fc-434a-a69f-3c2d679feedd\"}}];\n",
       "  root.Bokeh.embed.embed_items_notebook(docs_json, render_items);\n",
       "\n",
       "  }\n",
       "  if (root.Bokeh !== undefined) {\n",
       "    embed_document(root);\n",
       "  } else {\n",
       "    var attempts = 0;\n",
       "    var timer = setInterval(function(root) {\n",
       "      if (root.Bokeh !== undefined) {\n",
       "        embed_document(root);\n",
       "        clearInterval(timer);\n",
       "      }\n",
       "      attempts++;\n",
       "      if (attempts > 100) {\n",
       "        console.log(\"Bokeh: ERROR: Unable to run BokehJS code because BokehJS library is missing\");\n",
       "        clearInterval(timer);\n",
       "      }\n",
       "    }, 10, root)\n",
       "  }\n",
       "})(window);"
      ],
      "application/vnd.bokehjs_exec.v0+json": ""
     },
     "metadata": {
      "application/vnd.bokehjs_exec.v0+json": {
       "id": "1276"
      }
     },
     "output_type": "display_data"
    }
   ],
   "source": [
    "hist, edges = np.histogram(counts_ted_top1000, density=True, bins=100)\n",
    "\n",
    "p = figure(tools=\"pan,wheel_zoom,reset,save\",\n",
    "           toolbar_location=\"above\",\n",
    "           title=\"Top-1000 words distribution\")\n",
    "p.quad(top=hist, bottom=0, left=edges[:-1], right=edges[1:], line_color=\"#555555\")\n",
    "show(p)"
   ]
  },
  {
   "cell_type": "markdown",
   "metadata": {},
   "source": [
    "### Part 3: Train Word2Vec"
   ]
  },
  {
   "cell_type": "code",
   "execution_count": 44,
   "metadata": {},
   "outputs": [],
   "source": [
    "from gensim.models import Word2Vec"
   ]
  },
  {
   "cell_type": "code",
   "execution_count": 45,
   "metadata": {},
   "outputs": [],
   "source": [
    "model = Word2Vec(sentences_ted, min_count=10)\n"
   ]
  },
  {
   "cell_type": "code",
   "execution_count": 46,
   "metadata": {},
   "outputs": [
    {
     "data": {
      "text/plain": [
       "14427"
      ]
     },
     "execution_count": 46,
     "metadata": {},
     "output_type": "execute_result"
    }
   ],
   "source": [
    "model_ted = model\n",
    "len(model_ted.wv.vocab)"
   ]
  },
  {
   "cell_type": "markdown",
   "metadata": {},
   "source": [
    "### Part 4: Ted Learnt Representations"
   ]
  },
  {
   "cell_type": "markdown",
   "metadata": {},
   "source": [
    "Finding similar words: (see gensim docs for more functionality of `most_similar`)"
   ]
  },
  {
   "cell_type": "code",
   "execution_count": 47,
   "metadata": {},
   "outputs": [
    {
     "data": {
      "text/plain": [
       "[('english', 0.6736822128295898),\n",
       " ('culture', 0.6426270604133606),\n",
       " ('narrative', 0.6394121646881104),\n",
       " ('mathematics', 0.6360023021697998),\n",
       " ('discipline', 0.6111500263214111),\n",
       " ('beauty', 0.6065939664840698),\n",
       " ('desire', 0.5956140756607056),\n",
       " ('nature', 0.5914527177810669),\n",
       " ('logic', 0.5801800489425659),\n",
       " ('religion', 0.5746239423751831)]"
      ]
     },
     "execution_count": 47,
     "metadata": {},
     "output_type": "execute_result"
    }
   ],
   "source": [
    "model_ted.wv.most_similar(\"language\")"
   ]
  },
  {
   "cell_type": "code",
   "execution_count": 48,
   "metadata": {},
   "outputs": [
    {
     "data": {
      "text/plain": [
       "[('harvard', 0.9002923965454102),\n",
       " ('stanford', 0.8894753456115723),\n",
       " ('cambridge', 0.8779757022857666),\n",
       " ('mit', 0.8687962293624878),\n",
       " ('berkeley', 0.8529583215713501),\n",
       " ('institute', 0.8505454659461975),\n",
       " ('ucla', 0.8349093198776245),\n",
       " ('yale', 0.8172074556350708),\n",
       " ('princeton', 0.8125810623168945),\n",
       " ('oxford', 0.8010606169700623)]"
      ]
     },
     "execution_count": 48,
     "metadata": {},
     "output_type": "execute_result"
    }
   ],
   "source": [
    "model_ted.wv.most_similar(\"university\")"
   ]
  },
  {
   "cell_type": "markdown",
   "metadata": {},
   "source": [
    "#### t-SNE visualization\n",
    "To use the t-SNE code below, first put a list of the top 1000 words (as strings) into a variable `words_top_ted`. The following code gets the corresponding vectors from the model, assuming it's called `model_ted`:"
   ]
  },
  {
   "cell_type": "code",
   "execution_count": 54,
   "metadata": {},
   "outputs": [],
   "source": [
    "# This assumes words_top_ted is a list of strings, the top 1000 words\n",
    "words_top_vec_ted = model_ted.wv[words_top_ted]"
   ]
  },
  {
   "cell_type": "code",
   "execution_count": 55,
   "metadata": {},
   "outputs": [],
   "source": [
    "from sklearn.manifold import TSNE\n",
    "tsne = TSNE(n_components=2, random_state=0)\n",
    "words_top_ted_tsne = tsne.fit_transform(words_top_vec_ted)"
   ]
  },
  {
   "cell_type": "code",
   "execution_count": 56,
   "metadata": {},
   "outputs": [
    {
     "data": {
      "text/html": [
       "\n",
       "\n",
       "\n",
       "\n",
       "\n",
       "\n",
       "  <div class=\"bk-root\" id=\"8dd20933-dfdc-4add-bdc6-15727b6a62f2\"></div>\n"
      ]
     },
     "metadata": {},
     "output_type": "display_data"
    },
    {
     "data": {
      "application/javascript": [
       "(function(root) {\n",
       "  function embed_document(root) {\n",
       "    \n",
       "  var docs_json = {\"cb2f322d-3f4b-4625-a7ca-9545b32420e8\":{\"roots\":{\"references\":[{\"attributes\":{\"below\":[{\"id\":\"1506\",\"type\":\"LinearAxis\"}],\"left\":[{\"id\":\"1511\",\"type\":\"LinearAxis\"}],\"renderers\":[{\"id\":\"1506\",\"type\":\"LinearAxis\"},{\"id\":\"1510\",\"type\":\"Grid\"},{\"id\":\"1511\",\"type\":\"LinearAxis\"},{\"id\":\"1515\",\"type\":\"Grid\"},{\"id\":\"1529\",\"type\":\"GlyphRenderer\"},{\"id\":\"1531\",\"type\":\"LabelSet\"}],\"title\":{\"id\":\"1495\",\"type\":\"Title\"},\"toolbar\":{\"id\":\"1520\",\"type\":\"Toolbar\"},\"toolbar_location\":\"above\",\"x_range\":{\"id\":\"1498\",\"type\":\"DataRange1d\"},\"x_scale\":{\"id\":\"1502\",\"type\":\"LinearScale\"},\"y_range\":{\"id\":\"1500\",\"type\":\"DataRange1d\"},\"y_scale\":{\"id\":\"1504\",\"type\":\"LinearScale\"}},\"id\":\"1496\",\"subtype\":\"Figure\",\"type\":\"Plot\"},{\"attributes\":{},\"id\":\"1573\",\"type\":\"UnionRenderers\"},{\"attributes\":{},\"id\":\"1519\",\"type\":\"SaveTool\"},{\"attributes\":{},\"id\":\"1574\",\"type\":\"Selection\"},{\"attributes\":{\"active_drag\":\"auto\",\"active_inspect\":\"auto\",\"active_multi\":null,\"active_scroll\":\"auto\",\"active_tap\":\"auto\",\"tools\":[{\"id\":\"1516\",\"type\":\"PanTool\"},{\"id\":\"1517\",\"type\":\"WheelZoomTool\"},{\"id\":\"1518\",\"type\":\"ResetTool\"},{\"id\":\"1519\",\"type\":\"SaveTool\"}]},\"id\":\"1520\",\"type\":\"Toolbar\"},{\"attributes\":{\"fill_color\":{\"value\":\"#1f77b4\"},\"line_color\":{\"value\":\"#1f77b4\"},\"size\":{\"units\":\"screen\",\"value\":8},\"x\":{\"field\":\"x1\"},\"y\":{\"field\":\"x2\"}},\"id\":\"1527\",\"type\":\"Scatter\"},{\"attributes\":{\"fill_alpha\":{\"value\":0.1},\"fill_color\":{\"value\":\"#1f77b4\"},\"line_alpha\":{\"value\":0.1},\"line_color\":{\"value\":\"#1f77b4\"},\"size\":{\"units\":\"screen\",\"value\":8},\"x\":{\"field\":\"x1\"},\"y\":{\"field\":\"x2\"}},\"id\":\"1528\",\"type\":\"Scatter\"},{\"attributes\":{\"data_source\":{\"id\":\"1525\",\"type\":\"ColumnDataSource\"},\"glyph\":{\"id\":\"1527\",\"type\":\"Scatter\"},\"hover_glyph\":null,\"muted_glyph\":null,\"nonselection_glyph\":{\"id\":\"1528\",\"type\":\"Scatter\"},\"selection_glyph\":null,\"view\":{\"id\":\"1530\",\"type\":\"CDSView\"}},\"id\":\"1529\",\"type\":\"GlyphRenderer\"},{\"attributes\":{},\"id\":\"1571\",\"type\":\"BasicTickFormatter\"},{\"attributes\":{\"callback\":null,\"data\":{\"names\":[\"the\",\"and\",\"to\",\"of\",\"a\",\"that\",\"i\",\"in\",\"it\",\"you\",\"we\",\"is\",\"s\",\"this\",\"so\",\"they\",\"was\",\"for\",\"are\",\"have\",\"but\",\"what\",\"on\",\"with\",\"can\",\"t\",\"about\",\"there\",\"be\",\"as\",\"at\",\"all\",\"not\",\"do\",\"my\",\"one\",\"re\",\"people\",\"like\",\"if\",\"from\",\"now\",\"our\",\"he\",\"an\",\"just\",\"these\",\"or\",\"when\",\"because\",\"very\",\"me\",\"out\",\"by\",\"them\",\"how\",\"know\",\"up\",\"going\",\"had\",\"more\",\"think\",\"who\",\"were\",\"see\",\"your\",\"their\",\"which\",\"would\",\"here\",\"really\",\"get\",\"ve\",\"then\",\"m\",\"world\",\"us\",\"time\",\"some\",\"has\",\"don\",\"actually\",\"into\",\"way\",\"where\",\"will\",\"years\",\"things\",\"other\",\"no\",\"could\",\"go\",\"well\",\"want\",\"been\",\"make\",\"right\",\"she\",\"said\",\"something\",\"those\",\"first\",\"two\",\"than\",\"much\",\"also\",\"look\",\"new\",\"thing\",\"little\",\"got\",\"back\",\"over\",\"most\",\"say\",\"even\",\"his\",\"life\",\"only\",\"work\",\"many\",\"take\",\"need\",\"did\",\"lot\",\"kind\",\"why\",\"good\",\"around\",\"every\",\"different\",\"down\",\"ll\",\"let\",\"her\",\"through\",\"same\",\"being\",\"come\",\"d\",\"day\",\"year\",\"three\",\"use\",\"doing\",\"put\",\"called\",\"any\",\"today\",\"percent\",\"made\",\"after\",\"thank\",\"tell\",\"great\",\"human\",\"find\",\"didn\",\"fact\",\"talk\",\"change\",\"started\",\"another\",\"idea\",\"big\",\"last\",\"own\",\"before\",\"its\",\"never\",\"should\",\"better\",\"give\",\"thought\",\"went\",\"might\",\"important\",\"000\",\"again\",\"able\",\"together\",\"still\",\"problem\",\"off\",\"next\",\"part\",\"course\",\"system\",\"him\",\"does\",\"each\",\"start\",\"show\",\"long\",\"ago\",\"story\",\"came\",\"brain\",\"few\",\"bit\",\"between\",\"used\",\"place\",\"technology\",\"women\",\"too\",\"old\",\"mean\",\"data\",\"water\",\"looking\",\"question\",\"maybe\",\"found\",\"love\",\"doesn\",\"end\",\"example\",\"10\",\"done\",\"point\",\"four\",\"real\",\"wanted\",\"ever\",\"school\",\"understand\",\"sort\",\"live\",\"call\",\"whole\",\"children\",\"always\",\"trying\",\"may\",\"person\",\"away\",\"believe\",\"feel\",\"try\",\"million\",\"working\",\"help\",\"everything\",\"five\",\"country\",\"thinking\",\"second\",\"using\",\"information\",\"money\",\"means\",\"power\",\"took\",\"times\",\"high\",\"space\",\"number\",\"kids\",\"home\",\"become\",\"create\",\"small\",\"design\",\"making\",\"best\",\"left\",\"getting\",\"future\",\"enough\",\"man\",\"quite\",\"city\",\"without\",\"sense\",\"happened\",\"comes\",\"social\",\"probably\",\"less\",\"light\",\"talking\",\"energy\",\"am\",\"building\",\"science\",\"food\",\"body\",\"told\",\"interesting\",\"ask\",\"half\",\"pretty\",\"hard\",\"play\",\"anything\",\"lives\",\"countries\",\"coming\",\"such\",\"family\",\"stuff\",\"dollars\",\"earth\",\"moment\",\"20\",\"imagine\",\"across\",\"side\",\"while\",\"saw\",\"happen\",\"once\",\"okay\",\"build\",\"having\",\"men\",\"later\",\"experience\",\"makes\",\"asked\",\"living\",\"seen\",\"says\",\"room\",\"hand\",\"simple\",\"health\",\"ways\",\"else\",\"case\",\"yet\",\"almost\",\"young\",\"days\",\"nothing\",\"care\",\"bad\",\"happens\",\"goes\",\"move\",\"states\",\"reason\",\"computer\",\"open\",\"learn\",\"africa\",\"process\",\"inside\",\"someone\",\"six\",\"far\",\"mind\",\"project\",\"remember\",\"single\",\"picture\",\"both\",\"whether\",\"problems\",\"saying\",\"community\",\"basically\",\"already\",\"within\",\"looked\",\"myself\",\"billion\",\"often\",\"possible\",\"business\",\"planet\",\"global\",\"everybody\",\"top\",\"sure\",\"public\",\"set\",\"wrong\",\"car\",\"book\",\"keep\",\"yes\",\"answer\",\"oh\",\"hope\",\"sometimes\",\"true\",\"history\",\"war\",\"guy\",\"child\",\"instead\",\"months\",\"ideas\",\"looks\",\"matter\",\"government\",\"amazing\",\"united\",\"since\",\"bring\",\"age\",\"cells\",\"job\",\"heard\",\"until\",\"face\",\"wasn\",\"100\",\"read\",\"control\",\"isn\",\"research\",\"30\",\"words\",\"u\",\"group\",\"under\",\"self\",\"somebody\",\"built\",\"state\",\"woman\",\"turn\",\"friends\",\"beautiful\",\"line\",\"knew\",\"couple\",\"order\",\"form\",\"yeah\",\"internet\",\"middle\",\"music\",\"piece\",\"nature\",\"head\",\"though\",\"stop\",\"everyone\",\"50\",\"places\",\"video\",\"learned\",\"language\",\"run\",\"night\",\"decided\",\"study\",\"word\",\"cancer\",\"taking\",\"works\",\"became\",\"exactly\",\"species\",\"society\",\"completely\",\"education\",\"against\",\"stories\",\"large\",\"share\",\"level\",\"heart\",\"america\",\"model\",\"questions\",\"gets\",\"mother\",\"god\",\"company\",\"turns\",\"ourselves\",\"happening\",\"hear\",\"art\",\"themselves\",\"must\",\"itself\",\"rather\",\"kinds\",\"students\",\"name\",\"hours\",\"disease\",\"front\",\"house\",\"huge\",\"couldn\",\"created\",\"universe\",\"ok\",\"animals\",\"american\",\"environment\",\"worked\",\"minutes\",\"ones\",\"black\",\"perhaps\",\"1\",\"past\",\"third\",\"along\",\"others\",\"finally\",\"sound\",\"early\",\"game\",\"thousands\",\"century\",\"based\",\"least\",\"per\",\"ted\",\"lots\",\"figure\",\"free\",\"guys\",\"particular\",\"happy\",\"news\",\"learning\",\"entire\",\"won\",\"gave\",\"machine\",\"india\",\"during\",\"systems\",\"air\",\"difference\",\"outside\",\"natural\",\"taken\",\"seven\",\"given\",\"changed\",\"leave\",\"cell\",\"15\",\"close\",\"behind\",\"cities\",\"full\",\"scale\",\"difficult\",\"china\",\"takes\",\"companies\",\"yourself\",\"area\",\"reality\",\"seeing\",\"easy\",\"turned\",\"cost\",\"eyes\",\"team\",\"moving\",\"population\",\"culture\",\"york\",\"hands\",\"whatever\",\"began\",\"needs\",\"terms\",\"image\",\"simply\",\"needed\",\"beginning\",\"father\",\"local\",\"realized\",\"media\",\"death\",\"parents\",\"view\",\"walk\",\"white\",\"market\",\"parts\",\"ocean\",\"economic\",\"eight\",\"powerful\",\"known\",\"week\",\"size\",\"felt\",\"humans\",\"certain\",\"spend\",\"longer\",\"phone\",\"wonderful\",\"cannot\",\"grow\",\"common\",\"center\",\"tried\",\"fish\",\"land\",\"oil\",\"political\",\"interested\",\"deal\",\"red\",\"gone\",\"amount\",\"weeks\",\"spent\",\"opportunity\",\"paper\",\"lost\",\"national\",\"quickly\",\"blue\",\"step\",\"poor\",\"green\",\"buy\",\"growth\",\"wouldn\",\"either\",\"patients\",\"sitting\",\"ability\",\"changes\",\"write\",\"challenge\",\"south\",\"low\",\"growing\",\"friend\",\"field\",\"shows\",\"2\",\"born\",\"rest\",\"climate\",\"40\",\"test\",\"street\",\"surface\",\"incredible\",\"average\",\"physical\",\"morning\",\"scientists\",\"program\",\"pay\",\"value\",\"feeling\",\"hundreds\",\"girl\",\"met\",\"behavior\",\"economy\",\"dna\",\"complex\",\"access\",\"risk\",\"animal\",\"structure\",\"feet\",\"attention\",\"areas\",\"anyone\",\"deep\",\"watch\",\"short\",\"absolutely\",\"speak\",\"brought\",\"die\",\"bottom\",\"numbers\",\"audience\",\"stage\",\"realize\",\"law\",\"images\",\"wrote\",\"understanding\",\"knowledge\",\"literally\",\"books\",\"movement\",\"ground\",\"giving\",\"eat\",\"force\",\"seems\",\"alone\",\"telling\",\"starting\",\"hold\",\"nice\",\"forward\",\"sea\",\"developed\",\"individual\",\"kid\",\"millions\",\"support\",\"miles\",\"tools\",\"running\",\"online\",\"result\",\"act\",\"medical\",\"technologies\",\"north\",\"lab\",\"development\",\"blood\",\"fear\",\"nobody\",\"map\",\"personal\",\"issue\",\"voice\",\"material\",\"key\",\"12\",\"recently\",\"theory\",\"cut\",\"cars\",\"sun\",\"fast\",\"changing\",\"playing\",\"clear\",\"especially\",\"soon\",\"girls\",\"patient\",\"choice\",\"fly\",\"creating\",\"normal\",\"discovered\",\"europe\",\"talked\",\"relationship\",\"gives\",\"generation\",\"dark\",\"type\",\"showed\",\"chance\",\"seem\",\"industry\",\"asking\",\"rate\",\"fun\",\"issues\",\"color\",\"designed\",\"hour\",\"university\",\"innovation\",\"several\",\"class\",\"computers\",\"english\",\"tiny\",\"allow\",\"save\",\"focus\",\"digital\",\"solve\",\"developing\",\"network\",\"film\",\"special\",\"wall\",\"situation\",\"baby\",\"solution\",\"reasons\",\"box\",\"knows\",\"meet\",\"dead\",\"stand\",\"begin\",\"haven\",\"impact\",\"anybody\",\"term\",\"beyond\",\"pictures\",\"please\",\"ice\",\"produce\",\"shape\",\"non\",\"resources\",\"robot\",\"cool\",\"groups\",\"likely\",\"stay\",\"available\",\"truth\",\"rights\",\"major\",\"cause\",\"evidence\",\"obviously\",\"writing\",\"experiment\",\"modern\",\"drug\",\"becomes\",\"incredibly\",\"aren\",\"bigger\",\"guess\",\"nine\",\"product\",\"drugs\",\"lived\",\"involved\",\"perfect\",\"google\",\"month\",\"effect\",\"similar\",\"putting\",\"eye\",\"pick\",\"message\",\"quality\",\"violence\",\"web\",\"evolution\",\"security\",\"office\",\"basic\",\"solar\",\"indeed\",\"general\",\"towards\",\"present\",\"drive\",\"send\",\"listen\",\"worth\",\"revolution\",\"explain\",\"hundred\",\"certainly\",\"died\",\"ready\",\"teach\",\"journey\",\"25\",\"hit\",\"walking\",\"led\",\"approach\",\"international\",\"200\",\"scientific\",\"games\",\"60\",\"potential\",\"crazy\",\"communities\",\"chinese\",\"device\",\"source\",\"camera\",\"rules\",\"sex\",\"carbon\",\"sounds\",\"boy\",\"reach\",\"starts\",\"examples\",\"west\",\"3\",\"success\",\"measure\",\"particularly\",\"software\",\"totally\",\"suddenly\",\"action\",\"college\",\"higher\",\"code\",\"eventually\",\"democracy\",\"among\",\"minute\",\"sit\",\"largest\",\"showing\",\"hospital\",\"notice\",\"period\",\"mass\",\"develop\",\"dream\",\"onto\",\"plants\",\"break\",\"add\",\"memory\",\"everywhere\",\"favorite\",\"11\",\"zero\",\"speed\",\"schools\",\"moved\",\"response\",\"wants\",\"extremely\",\"movie\",\"individuals\",\"table\",\"wait\",\"medicine\",\"follow\",\"anyway\",\"trust\",\"plant\",\"biggest\",\"watching\",\"organization\",\"creative\",\"road\",\"choose\",\"worse\",\"lead\",\"results\",\"500\",\"exciting\",\"grew\",\"materials\",\"jobs\",\"plan\",\"east\",\"poverty\",\"positive\",\"safe\",\"strong\",\"fall\",\"essentially\",\"object\",\"door\",\"son\",\"vision\",\"further\",\"happiness\",\"continue\",\"student\",\"doctor\",\"including\",\"named\",\"role\",\"objects\",\"extraordinary\",\"standing\",\"skin\",\"leaders\",\"usually\",\"african\",\"conversation\",\"projects\",\"allowed\",\"models\",\"supposed\",\"faster\",\"interest\",\"families\",\"police\",\"fight\",\"tree\",\"connected\",\"screen\",\"5\",\"cases\",\"goal\",\"somewhere\",\"finding\",\"buildings\",\"shown\"],\"x1\":{\"__ndarray__\":\"/cOLwUeEMMHgzl1BFhH0QcHG8UH8KprB0z6vwXf9akG+8qXBg2jPwX+W18GeDDHAg7U5wPDvFUFnepDB/TfYwY25p8E1LARBsFjswSRUJcChK4vBupKpwV2De0H7FVTBKxVYQRiCAsHv1sa+EKzxwKTUbMAgPk3ABC/7wdbZecBGIJPAjJlDwWr/l8FDHABCYtjowdyja8EOSHTAUuRwwWZFLkEOXMPArueNQTGDhsFWdv9Be1kiwdSKgcFS22rBLRxUwaXcjMGoMZxA7W+cwTxDmUFUxOvAh/afwRv7lsGjQK3BiW9yQceyBEEzz76/PeoAQsTTusEoC5XBX+ftwemQm8Fa+cTB3eKjwW96msHcvyFBUgD2QG/I8j99XXbBginawWLNKcFojQPCrnLqQXKCmEE+QgTB+pZTQVPVmL/5YZJBlyGzwHexaUHhe/q/MFkdwcvWT0FHSe3AObftwI0wisGwQGvBy5kpQaETVsGVr0LBdojVQKa5q8GkOxHB9NzEQcBZhMEaqom/Y6WzwWmLgcHVVu5B85Stv3iCoMEtfNfBN6GcwHIbZMG7UTlBBP/YwBwki0ErcTZAaK6KQcxZN0FxwJBA/HkawWvbPcGqXpvBSBwxwAeMx8DbMDJAZDv4QC1Uc8EPedNA/jmhQIqZQEGgpZFBr0SFwfLecsBTV0xBNErCQaNzw0Ak3YxBKHtVQb+XL8GtH5PBJuxiQbC9mb9dH5c/UDVZwT2IFEFK+bXA1tHQwCsjr79WFfrAGzb2wGUffsFsnIa/7laSwWTEzcAKPv8/7PgVwaVKYsETwwfBaM6XwSVWsr+DruFATBZswWfekEG7xUm/WP6ZwWU5c8DSyQZAXjX5Qd4hkz9WfjxBNdqdQB2SnUAC4FrBIpkuQUXjjcFXNzxBOZnrQeBEgMEjM8HB1ueIwY+bNkEmjANA9k8IQNmhGsEYfO9AHTGCQapFyMChbo9AijaRQYtxrEBvRRTA1FihwA1IAkEY2Z3Bqb23PwpAvUFR4SjBhwWQwV/i2MHzAmbBJ0KIwGbziMHeLrTBNbCQwKnhNsAJDQVCZWVcwIbk+765/khB4FyJwbhdd0BjHm7BOieswSh7RUGLAR5BsVFcwafJuUHMylfBdvK4wXcHusFZuZpBgBVQQCI1NkCk8AU/E9XOwR7sF8E8wq+/AOxpQffFr0AVCo7BhMQWwXPEWMFEppFB4l4CwZUjmsG4xY1B/Vl0wYenCsFth/lApyE3QUTQP8F+45JBxHuxwQmRtcEIBCTBpAbvPzYp78CkKOPAIfivwZoNWL/Nx+VBfnTUwejD9kFWprDAtFNFQaEquEFkxRY7qGMXQdg2hcGO6h3AR+gAwm7g50CDEqbAvZtswV4o4cDOArfAheQNwTAMbUFU3bZA6C8UwQXO4EH5XsQ/mjw7wfpBKkHpoBtAuCVdwccPNkC4HfZB97QTQUablD9DLcPBawKfwMKEaEHPMVPBv13/QTh56UCnxNTBb6cqQZSKA8KICVBB7bk/QW7oe0GvDaY/Lr06wVMMuT/rp3TBqkRbwKiCi0CZm3A+Te9Gwfies8ECEbZBICfFQarkVcGh/CjAaKliwQNX0cAAfd6/H0HbQBYdFsG7PIM/VwGbwdHwVEEUK0q9JQYPwVRXk8ERUHfAV7Y5wf8IRMFkLg/B9c8wwQzqiMH832LBOJXmv4/7xsBwUkPBx35+wcbj1MFmMBe/GLSOwJznz77q6GpAqCp5QS73gUFL8crByaAMvw3N4sAAIyXA+oiQwRTCusAhhLLBLjicQfW8c8DHSyC/RGecwIsfXsGPhdBBy/quQeUKcb+8WiVBuTpGwdZI4EHi6s9ATXBPQWDpvcGJfNK/M1zSwZASbcAe+xG/StqbwQZCykEMdoo/sO9/wKcViMGcr8hBDoUawYsPekFJ10/AuamfwZgNeEG7V3jBWSipwTDp3z8GDxTBjsisPwdFYUH5cNtAvHV+QXLdtsHl6n5AZg9hwAWEeEFOjbLA4BAGwaTUhMC5MbrAIMgowRIWWsGIoLlB4dhUwTG7h8HQKhrBEE4pPzW4Kj8sSrtB8a1kwYfUOsHIVatBp+rFwFYzdEH6GF/AL+PXQbSwkEEQlZ8+EePMQXwSVsGXJ2vBKqeUvpxmhkAb3g2/aEjUwft1UME6s6Y+cG2gQbl1yD+4FIrB4q++wEDBn0EigVRBdazJPmCUpUHGr8tBwxjdwLKYX0HzUG/AFKm9wTL0t8FGK6pBK1JQwSNyYsF3vWLBvD/0vwN2k0CkjLvBG0KQwHpHR0ELc8BABEVMwelTIUEtVN1B3UChwIeAEsA0yOhAdvQMwD+sL8G+9yPBWKW2wQRXmD+qQsFBZtgwwIOtx8GE6xbBP4FPwRMMrMBbE4hA163WP2sg9MDobPdB94spwUSnhMBq1qHB8U/EQFHoq0Eb2ztBHeHRwC+mbkFkOQRCnfuPQbWxakH/PnvBUZtWQXFkwL4uKttB8U6bQIul0UFLfIfANVpqwTJtKcHa9go+luZcwYW0kkGeH83AKf6QwbGkREF0pp/BhThDQXnKKUHZoPZBORU2QT3Sa8E6HAvB4h2fwP5W90GHYaW/G9qJwI9tP0G8h45Bq+O7wdLb8EC+eT7BM8qeQVuVt0FYff9AELChwTqWvMC2GqtBNIIbQchsS8G3iBY9s3qPQBje90EjXXFBMJmRwbN/L8Hnk8+/nPRAwTWaPcDqUQlBOCmxQYQvP0HSUnFB+zYDwMW/ncDMaTpBLzlvwc5+GkEQ36ZBTsQRQYFiVsD9frG/GbXdwLs5ikHqQpJBUyKGwUFZCr4PG9lB6S5awY4EgkEGChVBeHZIQIDSREHAl/dAOZKkwTM7yL8mOJHBDj26wVEhbsF221hA20zpvqjGwsEP3mlBLB27QWl5mEEbXSdB5jTcPvNF1EGxt63AhsyVQTruxsGWdPtANCzTQMy/BsHe+iA+MjtjwRSeTEExS9q/IiXUwMT9ZMGtU5pBPYoKQVE3AEJqU+O/VdGEwRcYK0Bv41hAy1kGQUEMxj8dqQDBAeqNQPkM/UDAkWXBNUSFQQ2xvMHeF1NBqQumwKXKacGnjj1A1bBAwXgmG0EnfV5BA1W9QVI6+kB4RYZB8MvPv53ERkCNm9TBIdGxwKTgQEFQTbXBAIykQS2L3kDV7LrAcdfgQcP/L8BDj6y/ilZIQQV8McG5wqtA3qPEwE+XgkBDPANBuGUQQabTFkFBMXFBkp/QPz6ceEFMdKdAbOqlwUJ3NkFcML/AhKqqweJXFkDz9WDAyQGxwdRij0GDGcXBHd6qQKPnz0GCL4JAhTS0QDHFFcHxWY1BOJaSQZdHg8FFg6FB2nVlwRSYR0EyTwlBeHKJwWjvVUD3meRBzyIBwp+secGkVFPBZuz2QPVx5sBH/Zi9XnBawYGMkkGji4tBhouJPkQq9z/KOKA8kJ7VQDsaAj+YaU/As6rwQJfgpcBsdJpBFzRQP4wE+8AnH/RAjswZv5oXCUGQ+U3BPoajwQQK80AlgJFBnUCXQLtueUDAXrbA1aVkQQjpsEDA5sZACp7QvxEMskFLwr5BTdPAwZDvvUBKyl7BqpPXwX7L2sALUGHB3iWRwW4qE8GWoYNArjCeQWgJzcCIsZDAKDGpweNkn0FulZpBdXKYwXtW+EC1gAlB9MUJwUpjnEGMyyZBMUBRQJYOJsGlEB3Bh+gkQTVxu7/vUvvAvJUvwYxr50AhBUPBThPdv66iS0Fk3vJA2wG/wWhnuUDA0ULBv3IJQTMC2sANGci/AXJ3QZDJWMFVpr/AO2YowC1vGEAFJ4VBp893QTBH5EHinafAUrKAQQfOIkBn7zc+hZ65wf+xDEEZqZpAMVB1QM2D/MA8F9lAsiq4QGrdpr8ZADTBwnm7QKsqRMH/95FBsp7oQL2oxsEJfQ5B3FdBwX4f3b9np1dAiSfEwdtygMENXSfBoisEQAe3Q8Fzrv3ADgQqwFhcvMFxqddBF4LRwSvPeEAG8c3ANs4HwQ9+wkDi/pRA41iPwRMevj9/Fg2+LY1XQVHcKsFHNFlBOpaZwEgFz0H49GlAtwiJwFhvicDWTAjBYxA3QVjEP8BdIPTAGYhwQTjkE8GLqIRBPZbrwACFz8Czj0dB6iEpQch1FsGrwXNBFDYIQTw3kcAtMZxAzTDCP+gtOT72BjfB/y5zQLIRr0FWoOs/BTtiPjkJVsGKj07B0u8kwUevIMHUiZNBkERDQabdwcGXEaxA+8o9QXLDnkGMOTPBNmAAQSbm9cAv6rdA6aMSQfTChEGf4UO/KJ3JvyYVq0HJsZzB5OUmwTEKC0Ew1eS9vUuMQVFd50FG+wFA1Ai0QLjjucCmxCfBKE6jP2TpLUGtc05B/b6BwBeQbkCREplB0VvvQT9DocFAdwTA/r+oQEuBlEFMIavB4lTzP1vuRsAjkt/ADT6wwBuEQEGhwKtAM0YvweKOiD8EkVLBAobnwEDe3UDm85lBy80WQZnm4UAKv4BBnIXHwPIOukDOpAdBEyukwMzVIEFelT5BIzpAQMp+OMEL6mXB7vJRwYXUvL8LnqxBq7lgwbtKTcDxFdfAnu6pwaVNyEBpNWDBj8ADwEv5e72W1TLBxjNdwdqAkMEafZBAzLqCQf3w/D7DrC5BbI9bwCSr0L6o79tAPxafwAaFqkH+NqBBpblqvm2UFUFrNzy/D8yEQYBU2sAWwxxBqQfrv1KxR8HAE0zBO6F1wADVlEHLDdhBE50Lv9zAlkDijNbA9IZOQLNdWECdiNDAXQYtwb0fF0EpFQ3BUSb0QQAZeUB+Gy7B3v45QW2SAEJdbJ7AxuYuwVh36kFpvwTBYjvZwDRKlcE0zK4+CF8hQd/JA8Erk26+TBpvQduilkHdx0DBA89LwcseB0A3TwrB4LSxQVgu5b9bAR1BY9RHQaMbqEFTfJbB6LJZQJjCTEBCE21AYQ2XwKujp0Gp15u/CawMwZUFIkENCUjBHiwEwXE/BMFl1A9Bl4LoQbIDQsF2D3ZBhDp9QD7aOUDSRTvBvlDwQQVhAsFEVZ1BBsNPPx2akD9uGYPBz1WFQQgZmEEqWTQ/BureQW94mEE+NGdAhPQ3wM7iLkBayDLB9BU/wB954D9JNSPAwMdgwbYu8T/nC+tBcuOvQMS0EsHwnBPBPKsrwaxe/0G7HjfBjCy5QIbRj0FnVC4/kRJiweBJ3T+GEZ9BVBL7wNh+uEFL7rM+xJaSQU3is0DPqnxBE23NQDL47kEPBYZAfEqpQcCyoEGJzADBqC09QMirpMDux+I/OUQmv9SxsUGnvx1A+09TQADLB8Hj6pFBqc/HwQ==\",\"dtype\":\"float32\",\"shape\":[1000]},\"x2\":{\"__ndarray__\":\"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\",\"dtype\":\"float32\",\"shape\":[1000]}},\"selected\":{\"id\":\"1574\",\"type\":\"Selection\"},\"selection_policy\":{\"id\":\"1573\",\"type\":\"UnionRenderers\"}},\"id\":\"1525\",\"type\":\"ColumnDataSource\"},{\"attributes\":{\"source\":{\"id\":\"1525\",\"type\":\"ColumnDataSource\"}},\"id\":\"1530\",\"type\":\"CDSView\"},{\"attributes\":{},\"id\":\"1518\",\"type\":\"ResetTool\"},{\"attributes\":{\"formatter\":{\"id\":\"1571\",\"type\":\"BasicTickFormatter\"},\"plot\":{\"id\":\"1496\",\"subtype\":\"Figure\",\"type\":\"Plot\"},\"ticker\":{\"id\":\"1512\",\"type\":\"BasicTicker\"}},\"id\":\"1511\",\"type\":\"LinearAxis\"},{\"attributes\":{},\"id\":\"1502\",\"type\":\"LinearScale\"},{\"attributes\":{\"plot\":{\"id\":\"1496\",\"subtype\":\"Figure\",\"type\":\"Plot\"},\"source\":{\"id\":\"1525\",\"type\":\"ColumnDataSource\"},\"text\":{\"field\":\"names\"},\"text_align\":\"center\",\"text_color\":{\"value\":\"#555555\"},\"text_font_size\":{\"value\":\"8pt\"},\"x\":{\"field\":\"x1\"},\"y\":{\"field\":\"x2\"},\"y_offset\":{\"value\":6}},\"id\":\"1531\",\"type\":\"LabelSet\"},{\"attributes\":{\"plot\":null,\"text\":\"word2vec T-SNE for most common words\"},\"id\":\"1495\",\"type\":\"Title\"},{\"attributes\":{},\"id\":\"1569\",\"type\":\"BasicTickFormatter\"},{\"attributes\":{\"callback\":null},\"id\":\"1500\",\"type\":\"DataRange1d\"},{\"attributes\":{\"callback\":null},\"id\":\"1498\",\"type\":\"DataRange1d\"},{\"attributes\":{},\"id\":\"1517\",\"type\":\"WheelZoomTool\"},{\"attributes\":{\"dimension\":1,\"plot\":{\"id\":\"1496\",\"subtype\":\"Figure\",\"type\":\"Plot\"},\"ticker\":{\"id\":\"1512\",\"type\":\"BasicTicker\"}},\"id\":\"1515\",\"type\":\"Grid\"},{\"attributes\":{\"formatter\":{\"id\":\"1569\",\"type\":\"BasicTickFormatter\"},\"plot\":{\"id\":\"1496\",\"subtype\":\"Figure\",\"type\":\"Plot\"},\"ticker\":{\"id\":\"1507\",\"type\":\"BasicTicker\"}},\"id\":\"1506\",\"type\":\"LinearAxis\"},{\"attributes\":{},\"id\":\"1516\",\"type\":\"PanTool\"},{\"attributes\":{},\"id\":\"1504\",\"type\":\"LinearScale\"},{\"attributes\":{},\"id\":\"1507\",\"type\":\"BasicTicker\"},{\"attributes\":{},\"id\":\"1512\",\"type\":\"BasicTicker\"},{\"attributes\":{\"plot\":{\"id\":\"1496\",\"subtype\":\"Figure\",\"type\":\"Plot\"},\"ticker\":{\"id\":\"1507\",\"type\":\"BasicTicker\"}},\"id\":\"1510\",\"type\":\"Grid\"}],\"root_ids\":[\"1496\"]},\"title\":\"Bokeh Application\",\"version\":\"1.0.2\"}};\n",
       "  var render_items = [{\"docid\":\"cb2f322d-3f4b-4625-a7ca-9545b32420e8\",\"roots\":{\"1496\":\"8dd20933-dfdc-4add-bdc6-15727b6a62f2\"}}];\n",
       "  root.Bokeh.embed.embed_items_notebook(docs_json, render_items);\n",
       "\n",
       "  }\n",
       "  if (root.Bokeh !== undefined) {\n",
       "    embed_document(root);\n",
       "  } else {\n",
       "    var attempts = 0;\n",
       "    var timer = setInterval(function(root) {\n",
       "      if (root.Bokeh !== undefined) {\n",
       "        embed_document(root);\n",
       "        clearInterval(timer);\n",
       "      }\n",
       "      attempts++;\n",
       "      if (attempts > 100) {\n",
       "        console.log(\"Bokeh: ERROR: Unable to run BokehJS code because BokehJS library is missing\");\n",
       "        clearInterval(timer);\n",
       "      }\n",
       "    }, 10, root)\n",
       "  }\n",
       "})(window);"
      ],
      "application/vnd.bokehjs_exec.v0+json": ""
     },
     "metadata": {
      "application/vnd.bokehjs_exec.v0+json": {
       "id": "1496"
      }
     },
     "output_type": "display_data"
    }
   ],
   "source": [
    "p = figure(tools=\"pan,wheel_zoom,reset,save\",\n",
    "           toolbar_location=\"above\",\n",
    "           title=\"word2vec T-SNE for most common words\")\n",
    "\n",
    "source = ColumnDataSource(data=dict(x1=words_top_ted_tsne[:,0],\n",
    "                                    x2=words_top_ted_tsne[:,1],\n",
    "                                    names=words_top_ted))\n",
    "\n",
    "p.scatter(x=\"x1\", y=\"x2\", size=8, source=source)\n",
    "\n",
    "labels = LabelSet(x=\"x1\", y=\"x2\", text=\"names\", y_offset=6,\n",
    "                  text_font_size=\"8pt\", text_color=\"#555555\",\n",
    "                  source=source, text_align='center')\n",
    "p.add_layout(labels)\n",
    "\n",
    "show(p)"
   ]
  },
  {
   "cell_type": "markdown",
   "metadata": {},
   "source": [
    "### Part 5: Wiki Learnt Representations"
   ]
  },
  {
   "cell_type": "markdown",
   "metadata": {},
   "source": [
    "Download dataset"
   ]
  },
  {
   "cell_type": "code",
   "execution_count": 52,
   "metadata": {},
   "outputs": [],
   "source": [
    "if not os.path.isfile('wikitext-103-raw-v1.zip'):\n",
    "    urllib.request.urlretrieve(\"https://s3.amazonaws.com/research.metamind.io/wikitext/wikitext-103-raw-v1.zip\", filename=\"wikitext-103-raw-v1.zip\")"
   ]
  },
  {
   "cell_type": "code",
   "execution_count": 57,
   "metadata": {},
   "outputs": [],
   "source": [
    "with zipfile.ZipFile('wikitext-103-raw-v1.zip', 'r') as z:\n",
    "    input_text = str(z.open('wikitext-103-raw/wiki.train.raw', 'r').read(), encoding='utf-8') # Thanks Robert Bastian"
   ]
  },
  {
   "cell_type": "markdown",
   "metadata": {},
   "source": [
    "Preprocess sentences (note that it's important to remove small sentences for performance)"
   ]
  },
  {
   "cell_type": "code",
   "execution_count": 59,
   "metadata": {},
   "outputs": [],
   "source": [
    "sentences_wiki = []\n",
    "for line in input_text.split('\\n'):\n",
    "    s = [x for x in line.split('.') if x and len(x.split()) >= 5]\n",
    "    sentences_wiki.extend(s)\n",
    "    \n",
    "for s_i in range(len(sentences_wiki)):\n",
    "    sentences_wiki[s_i] = re.sub(\"[^a-z]\", \" \", sentences_wiki[s_i].lower())\n",
    "    sentences_wiki[s_i] = re.sub(r'\\([^)]*\\)', '', sentences_wiki[s_i])\n",
    "del input_text"
   ]
  },
  {
   "cell_type": "code",
   "execution_count": 60,
   "metadata": {},
   "outputs": [
    {
     "name": "stdout",
     "output_type": "stream",
     "text": [
      "4267112\n",
      "853422\n"
     ]
    }
   ],
   "source": [
    "# sample 1/5 of the data\n",
    "shuffle(sentences_wiki)\n",
    "print(len(sentences_wiki))\n",
    "sentences_wiki = sentences_wiki[:int(len(sentences_wiki)/5)]\n",
    "print(len(sentences_wiki))"
   ]
  },
  {
   "cell_type": "markdown",
   "metadata": {},
   "source": [
    "Now, repeat all the same steps that you performed above. You should be able to reuse essentially all the code."
   ]
  },
  {
   "cell_type": "code",
   "execution_count": 61,
   "metadata": {},
   "outputs": [],
   "source": [
    "sentences_strings_wiki = sentences_wiki"
   ]
  },
  {
   "cell_type": "code",
   "execution_count": 62,
   "metadata": {},
   "outputs": [],
   "source": [
    "sentences_wiki = []\n",
    "for sent_str in sentences_strings_wiki:\n",
    "    tokens = re.sub(r\"[^a-z0-9]+\", \" \", sent_str.lower()).split()\n",
    "    sentences_wiki.append(tokens)"
   ]
  },
  {
   "cell_type": "code",
   "execution_count": 63,
   "metadata": {},
   "outputs": [
    {
     "name": "stdout",
     "output_type": "stream",
     "text": [
      "[['dances', 'with', 'smurfs'], ['able', 'to', 'open', 'the', 'innings', 'or', 'bat', 'down', 'the', 'order', 'barnes', 'was', 'regarded', 'as', 'one', 'of', 'australia', 's', 'finest', 'batsmen', 'in', 'the', 'period', 'immediately', 'following', 'the', 'second', 'world', 'war'], ['america', 's', 'most', 'wanted', 'chris', 'harris', 'and', 'james', 'storm', 'amw', 'went', 'on', 'to', 'against', 'all', 'odds', 'to', 'defend', 'their', 'newly', 'won', 'nwa', 'world', 'tag', 'team', 'championship', 'against', 'kid', 'kash', 'and', 'lance', 'hoyt'], ['this', 'had', 'the', 'effect', 'of', 'reducing', 'the', 'total', 'number', 'of', 'australian', 'battalions', 'while', 'increasing', 'their', 'individual', 'strength'], ['amber', 'rose', 'additional', 'vocals']]\n"
     ]
    }
   ],
   "source": [
    "print(sentences_wiki[:5])"
   ]
  },
  {
   "cell_type": "code",
   "execution_count": 64,
   "metadata": {},
   "outputs": [],
   "source": [
    "# ...\n",
    "tokens_flat = list(chain.from_iterable(sentences_wiki))\n",
    "c = collections.Counter(tokens_flat)\n",
    "\n",
    "words_top_wiki = []\n",
    "for word, count in c.most_common(1000):\n",
    "    words_top_wiki.append(word)"
   ]
  },
  {
   "cell_type": "code",
   "execution_count": 65,
   "metadata": {},
   "outputs": [],
   "source": [
    "model_wiki = Word2Vec(sentences_wiki, min_count=10)"
   ]
  },
  {
   "cell_type": "markdown",
   "metadata": {},
   "source": [
    "#### t-SNE visualization"
   ]
  },
  {
   "cell_type": "code",
   "execution_count": 67,
   "metadata": {},
   "outputs": [],
   "source": [
    "# This assumes words_top_wiki is a list of strings, the top 1000 words\n",
    "words_top_vec_wiki = model_wiki.wv[words_top_wiki]\n",
    "\n",
    "tsne = TSNE(n_components=2, random_state=0)\n",
    "words_top_wiki_tsne = tsne.fit_transform(words_top_vec_wiki)"
   ]
  },
  {
   "cell_type": "code",
   "execution_count": 68,
   "metadata": {},
   "outputs": [
    {
     "data": {
      "text/html": [
       "\n",
       "\n",
       "\n",
       "\n",
       "\n",
       "\n",
       "  <div class=\"bk-root\" id=\"6ac36d74-a13b-42b6-980d-1659234e9016\"></div>\n"
      ]
     },
     "metadata": {},
     "output_type": "display_data"
    },
    {
     "data": {
      "application/javascript": [
       "(function(root) {\n",
       "  function embed_document(root) {\n",
       "    \n",
       "  var docs_json = {\"4c91b34d-0310-43c5-9d3d-c30c775e7bf7\":{\"roots\":{\"references\":[{\"attributes\":{\"below\":[{\"id\":\"1628\",\"type\":\"LinearAxis\"}],\"left\":[{\"id\":\"1633\",\"type\":\"LinearAxis\"}],\"renderers\":[{\"id\":\"1628\",\"type\":\"LinearAxis\"},{\"id\":\"1632\",\"type\":\"Grid\"},{\"id\":\"1633\",\"type\":\"LinearAxis\"},{\"id\":\"1637\",\"type\":\"Grid\"},{\"id\":\"1651\",\"type\":\"GlyphRenderer\"},{\"id\":\"1653\",\"type\":\"LabelSet\"}],\"title\":{\"id\":\"1617\",\"type\":\"Title\"},\"toolbar\":{\"id\":\"1642\",\"type\":\"Toolbar\"},\"toolbar_location\":\"above\",\"x_range\":{\"id\":\"1620\",\"type\":\"DataRange1d\"},\"x_scale\":{\"id\":\"1624\",\"type\":\"LinearScale\"},\"y_range\":{\"id\":\"1622\",\"type\":\"DataRange1d\"},\"y_scale\":{\"id\":\"1626\",\"type\":\"LinearScale\"}},\"id\":\"1618\",\"subtype\":\"Figure\",\"type\":\"Plot\"},{\"attributes\":{},\"id\":\"1638\",\"type\":\"PanTool\"},{\"attributes\":{},\"id\":\"1639\",\"type\":\"WheelZoomTool\"},{\"attributes\":{\"callback\":null,\"data\":{\"names\":[\"the\",\"of\",\"and\",\"in\",\"to\",\"a\",\"was\",\"s\",\"on\",\"as\",\"for\",\"that\",\"with\",\"by\",\"is\",\"his\",\"at\",\"he\",\"it\",\"from\",\"were\",\"an\",\"had\",\"which\",\"be\",\"this\",\"but\",\"are\",\"first\",\"not\",\"their\",\"after\",\"one\",\"her\",\"also\",\"its\",\"they\",\"two\",\"or\",\"have\",\"who\",\"new\",\"been\",\"has\",\"she\",\"when\",\"during\",\"time\",\"other\",\"would\",\"into\",\"all\",\"i\",\"more\",\"while\",\"over\",\"game\",\"him\",\"only\",\"later\",\"up\",\"most\",\"three\",\"about\",\"between\",\"th\",\"out\",\"than\",\"there\",\"some\",\"may\",\"film\",\"before\",\"made\",\"year\",\"such\",\"no\",\"season\",\"second\",\"where\",\"war\",\"years\",\"world\",\"both\",\"used\",\"then\",\"however\",\"through\",\"song\",\"them\",\"against\",\"these\",\"being\",\"series\",\"m\",\"album\",\"many\",\"city\",\"part\",\"north\",\"team\",\"united\",\"became\",\"well\",\"several\",\"including\",\"number\",\"can\",\"four\",\"early\",\"under\",\"state\",\"south\",\"day\",\"music\",\"so\",\"episode\",\"following\",\"states\",\"said\",\"although\",\"known\",\"american\",\"did\",\"work\",\"could\",\"began\",\"until\",\"t\",\"because\",\"released\",\"like\",\"called\",\"high\",\"people\",\"end\",\"around\",\"since\",\"british\",\"long\",\"best\",\"if\",\"found\",\"each\",\"same\",\"life\",\"september\",\"national\",\"west\",\"million\",\"back\",\"us\",\"along\",\"another\",\"show\",\"five\",\"use\",\"km\",\"area\",\"final\",\"any\",\"took\",\"you\",\"group\",\"century\",\"off\",\"october\",\"august\",\"received\",\"school\",\"john\",\"what\",\"due\",\"government\",\"line\",\"east\",\"june\",\"system\",\"march\",\"july\",\"will\",\"single\",\"home\",\"third\",\"november\",\"much\",\"general\",\"games\",\"set\",\"large\",\"april\",\"down\",\"major\",\"family\",\"left\",\"based\",\"history\",\"york\",\"house\",\"just\",\"december\",\"included\",\"place\",\"name\",\"company\",\"january\",\"road\",\"we\",\"played\",\"six\",\"king\",\"wrote\",\"band\",\"character\",\"army\",\"won\",\"now\",\"within\",\"described\",\"men\",\"according\",\"near\",\"led\",\"d\",\"own\",\"those\",\"river\",\"battle\",\"named\",\"times\",\"last\",\"video\",\"de\",\"death\",\"main\",\"next\",\"record\",\"st\",\"late\",\"release\",\"air\",\"top\",\"way\",\"species\",\"league\",\"very\",\"original\",\"still\",\"man\",\"even\",\"make\",\"ship\",\"force\",\"u\",\"again\",\"route\",\"production\",\"club\",\"february\",\"small\",\"built\",\"storm\",\"great\",\"though\",\"play\",\"old\",\"days\",\"public\",\"held\",\"university\",\"division\",\"do\",\"among\",\"further\",\"german\",\"book\",\"b\",\"side\",\"match\",\"role\",\"power\",\"white\",\"story\",\"service\",\"members\",\"french\",\"water\",\"player\",\"point\",\"having\",\"former\",\"order\",\"h\",\"often\",\"career\",\"continued\",\"park\",\"town\",\"despite\",\"came\",\"black\",\"local\",\"without\",\"england\",\"take\",\"considered\",\"party\",\"development\",\"version\",\"written\",\"songs\",\"few\",\"english\",\"half\",\"period\",\"ii\",\"county\",\"military\",\"different\",\"become\",\"form\",\"island\",\"tropical\",\"forces\",\"moved\",\"country\",\"building\",\"support\",\"given\",\"c\",\"little\",\"lost\",\"president\",\"london\",\"international\",\"court\",\"re\",\"performance\",\"using\",\"tour\",\"never\",\"street\",\"gave\",\"my\",\"similar\",\"lead\",\"n\",\"position\",\"attack\",\"returned\",\"track\",\"short\",\"produced\",\"royal\",\"church\",\"went\",\"aircraft\",\"highway\",\"published\",\"stated\",\"live\",\"recorded\",\"ships\",\"children\",\"control\",\"star\",\"class\",\"making\",\"land\",\"fire\",\"week\",\"how\",\"run\",\"western\",\"include\",\"total\",\"upon\",\"television\",\"per\",\"father\",\"throughout\",\"good\",\"australia\",\"women\",\"love\",\"once\",\"design\",\"title\",\"characters\",\"light\",\"me\",\"right\",\"away\",\"central\",\"young\",\"himself\",\"less\",\"head\",\"instead\",\"players\",\"red\",\"age\",\"seven\",\"months\",\"remained\",\"across\",\"writing\",\"developed\",\"sea\",\"ft\",\"night\",\"southern\",\"r\",\"return\",\"rock\",\"ten\",\"died\",\"political\",\"result\",\"previous\",\"law\",\"low\",\"race\",\"james\",\"station\",\"eight\",\"created\",\"hurricane\",\"office\",\"various\",\"construction\",\"too\",\"america\",\"areas\",\"style\",\"center\",\"e\",\"eventually\",\"japanese\",\"noted\",\"field\",\"felt\",\"miles\",\"reported\",\"william\",\"followed\",\"sent\",\"announced\",\"win\",\"seen\",\"son\",\"performed\",\"reached\",\"act\",\"should\",\"college\",\"full\",\"served\",\"member\",\"level\",\"range\",\"award\",\"together\",\"campaign\",\"able\",\"works\",\"originally\",\"taken\",\"killed\",\"common\",\"northern\",\"australian\",\"others\",\"mm\",\"chart\",\"points\",\"bridge\",\"born\",\"george\",\"located\",\"thought\",\"appeared\",\"success\",\"body\",\"caused\",\"established\",\"action\",\"features\",\"get\",\"post\",\"modern\",\"started\",\"project\",\"special\",\"football\",\"formed\",\"addition\",\"playing\",\"decided\",\"added\",\"director\",\"front\",\"sold\",\"behind\",\"feet\",\"stage\",\"site\",\"saw\",\"o\",\"fourth\",\"rather\",\"f\",\"heavy\",\"go\",\"every\",\"completed\",\"critics\",\"present\",\"see\",\"strong\",\"championship\",\"almost\",\"damage\",\"kingdom\",\"population\",\"soon\",\"initially\",\"command\",\"art\",\"open\",\"worked\",\"close\",\"david\",\"fleet\",\"important\",\"leading\",\"ground\",\"non\",\"eastern\",\"popular\",\"event\",\"awards\",\"case\",\"france\",\"opened\",\"recording\",\"mi\",\"working\",\"michael\",\"hall\",\"region\",\"free\",\"mother\",\"towards\",\"put\",\"weeks\",\"guns\",\"cup\",\"l\",\"provided\",\"coast\",\"training\",\"ever\",\"featured\",\"scene\",\"union\",\"wanted\",\"sound\",\"least\",\"washington\",\"troops\",\"wife\",\"henry\",\"brought\",\"average\",\"help\",\"designed\",\"scored\",\"allowed\",\"europe\",\"either\",\"studio\",\"generally\",\"victory\",\"records\",\"magazine\",\"does\",\"navy\",\"runs\",\"example\",\"opening\",\"far\",\"nine\",\"hit\",\"placed\",\"hours\",\"council\",\"events\",\"media\",\"crew\",\"mid\",\"co\",\"joined\",\"list\",\"earlier\",\"summer\",\"robert\",\"police\",\"base\",\"rest\",\"believed\",\"human\",\"successful\",\"available\",\"squadron\",\"start\",\"european\",\"x\",\"met\",\"japan\",\"finished\",\"involved\",\"minutes\",\"highest\",\"captain\",\"shot\",\"big\",\"operation\",\"particularly\",\"saying\",\"association\",\"brown\",\"review\",\"month\",\"change\",\"possible\",\"official\",\"replaced\",\"largest\",\"significant\",\"al\",\"taking\",\"research\",\"better\",\"films\",\"thus\",\"ended\",\"society\",\"mph\",\"section\",\"forced\",\"process\",\"beginning\",\"reviews\",\"test\",\"san\",\"must\",\"above\",\"outside\",\"radio\",\"come\",\"turned\",\"move\",\"real\",\"future\",\"passed\",\"going\",\"space\",\"units\",\"cast\",\"praised\",\"relationship\",\"goal\",\"stone\",\"appearance\",\"signed\",\"winds\",\"previously\",\"ordered\",\"infantry\",\"social\",\"lower\",\"additional\",\"business\",\"chief\",\"increased\",\"type\",\"cross\",\"community\",\"enough\",\"hill\",\"interest\",\"middle\",\"board\",\"lake\",\"charles\",\"thomas\",\"attempt\",\"critical\",\"canada\",\"plan\",\"don\",\"musical\",\"california\",\"gold\",\"castle\",\"elements\",\"program\",\"positive\",\"find\",\"v\",\"spent\",\"money\",\"parts\",\"entire\",\"groups\",\"district\",\"staff\",\"round\",\"rights\",\"battalion\",\"committee\",\"g\",\"paul\",\"term\",\"overall\",\"gun\",\"lines\",\"told\",\"directed\",\"brother\",\"give\",\"election\",\"grand\",\"cover\",\"failed\",\"already\",\"hand\",\"prior\",\"itself\",\"female\",\"sometimes\",\"turn\",\"room\",\"evidence\",\"news\",\"plot\",\"required\",\"asked\",\"p\",\"education\",\"usually\",\"complete\",\"uk\",\"our\",\"limited\",\"reception\",\"stars\",\"germany\",\"indian\",\"past\",\"score\",\"whom\",\"whose\",\"port\",\"india\",\"novel\",\"idea\",\"flight\",\"introduced\",\"study\",\"green\",\"minister\",\"smith\",\"claimed\",\"surface\",\"bill\",\"issue\",\"effects\",\"response\",\"students\",\"governor\",\"services\",\"square\",\"personal\",\"loss\",\"press\",\"background\",\"operations\",\"shows\",\"quickly\",\"k\",\"woman\",\"debut\",\"person\",\"arrived\",\"episodes\",\"blue\",\"speed\",\"becoming\",\"decision\",\"larger\",\"department\",\"fifth\",\"food\",\"mark\",\"centre\",\"movement\",\"queen\",\"writer\",\"especially\",\"bay\",\"remaining\",\"scenes\",\"structure\",\"running\",\"leaving\",\"industry\",\"proposed\",\"virginia\",\"commander\",\"pressure\",\"material\",\"richard\",\"peter\",\"cut\",\"influence\",\"la\",\"length\",\"teams\",\"britain\",\"estimated\",\"tracks\",\"living\",\"islands\",\"ny\",\"anti\",\"voice\",\"science\",\"winning\",\"depression\",\"village\",\"nearly\",\"carried\",\"los\",\"percent\",\"child\",\"finally\",\"civil\",\"railway\",\"might\",\"god\",\"language\",\"earth\",\"car\",\"defeated\",\"changes\",\"wide\",\"date\",\"naval\",\"hot\",\"latter\",\"suggested\",\"commercial\",\"appointed\",\"dark\",\"entered\",\"daughter\",\"intended\",\"leader\",\"self\",\"destroyed\",\"lack\",\"size\",\"producer\",\"empire\",\"higher\",\"soviet\",\"trade\",\"chinese\",\"spanish\",\"subsequently\",\"professional\",\"immediately\",\"current\",\"compared\",\"natural\",\"shortly\",\"buildings\",\"course\",\"report\",\"network\",\"upper\",\"nd\",\"related\",\"experience\",\"helped\",\"awarded\",\"view\",\"agreed\",\"pop\",\"today\",\"approximately\",\"fans\",\"captured\",\"regular\",\"contract\",\"themselves\",\"face\",\"married\",\"whether\",\"cost\",\"supported\",\"officer\",\"ball\",\"brigade\",\"your\",\"fact\",\"health\",\"museum\",\"plans\",\"manager\",\"chicago\",\"mostly\",\"appear\",\"nature\",\"fort\",\"singles\",\"provide\",\"books\",\"jackson\",\"create\",\"changed\",\"billboard\",\"initial\",\"regiment\",\"something\",\"associated\",\"feature\",\"soldiers\",\"pacific\",\"corps\",\"longer\",\"minor\",\"guitar\",\"officers\",\"information\",\"planned\",\"lyrics\",\"yet\",\"done\",\"friends\",\"effect\",\"extended\",\"likely\",\"numerous\",\"friend\",\"probably\",\"suffered\",\"got\",\"moving\",\"roman\",\"unit\",\"via\",\"ran\",\"location\",\"lord\",\"private\",\"pre\",\"issued\",\"key\",\"remains\",\"edward\",\"mixed\",\"cm\",\"countries\",\"johnson\",\"status\",\"copies\",\"albums\",\"problems\",\"difficult\",\"dance\",\"includes\",\"christian\",\"federal\",\"florida\",\"poor\",\"pass\",\"forward\",\"independent\",\"fight\",\"really\",\"always\",\"removed\",\"fell\",\"active\",\"singer\",\"minute\",\"energy\"],\"x1\":{\"__ndarray__\":\"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\",\"dtype\":\"float32\",\"shape\":[1000]},\"x2\":{\"__ndarray__\":\"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\",\"dtype\":\"float32\",\"shape\":[1000]}},\"selected\":{\"id\":\"1703\",\"type\":\"Selection\"},\"selection_policy\":{\"id\":\"1702\",\"type\":\"UnionRenderers\"}},\"id\":\"1647\",\"type\":\"ColumnDataSource\"},{\"attributes\":{\"plot\":{\"id\":\"1618\",\"subtype\":\"Figure\",\"type\":\"Plot\"},\"source\":{\"id\":\"1647\",\"type\":\"ColumnDataSource\"},\"text\":{\"field\":\"names\"},\"text_align\":\"center\",\"text_color\":{\"value\":\"#555555\"},\"text_font_size\":{\"value\":\"8pt\"},\"x\":{\"field\":\"x1\"},\"y\":{\"field\":\"x2\"},\"y_offset\":{\"value\":6}},\"id\":\"1653\",\"type\":\"LabelSet\"},{\"attributes\":{},\"id\":\"1700\",\"type\":\"BasicTickFormatter\"},{\"attributes\":{},\"id\":\"1640\",\"type\":\"ResetTool\"},{\"attributes\":{\"plot\":null,\"text\":\"word2vec T-SNE for most common words\"},\"id\":\"1617\",\"type\":\"Title\"},{\"attributes\":{},\"id\":\"1641\",\"type\":\"SaveTool\"},{\"attributes\":{\"callback\":null},\"id\":\"1620\",\"type\":\"DataRange1d\"},{\"attributes\":{\"active_drag\":\"auto\",\"active_inspect\":\"auto\",\"active_multi\":null,\"active_scroll\":\"auto\",\"active_tap\":\"auto\",\"tools\":[{\"id\":\"1638\",\"type\":\"PanTool\"},{\"id\":\"1639\",\"type\":\"WheelZoomTool\"},{\"id\":\"1640\",\"type\":\"ResetTool\"},{\"id\":\"1641\",\"type\":\"SaveTool\"}]},\"id\":\"1642\",\"type\":\"Toolbar\"},{\"attributes\":{\"callback\":null},\"id\":\"1622\",\"type\":\"DataRange1d\"},{\"attributes\":{\"fill_color\":{\"value\":\"#1f77b4\"},\"line_color\":{\"value\":\"#1f77b4\"},\"size\":{\"units\":\"screen\",\"value\":8},\"x\":{\"field\":\"x1\"},\"y\":{\"field\":\"x2\"}},\"id\":\"1649\",\"type\":\"Scatter\"},{\"attributes\":{\"fill_alpha\":{\"value\":0.1},\"fill_color\":{\"value\":\"#1f77b4\"},\"line_alpha\":{\"value\":0.1},\"line_color\":{\"value\":\"#1f77b4\"},\"size\":{\"units\":\"screen\",\"value\":8},\"x\":{\"field\":\"x1\"},\"y\":{\"field\":\"x2\"}},\"id\":\"1650\",\"type\":\"Scatter\"},{\"attributes\":{},\"id\":\"1624\",\"type\":\"LinearScale\"},{\"attributes\":{\"data_source\":{\"id\":\"1647\",\"type\":\"ColumnDataSource\"},\"glyph\":{\"id\":\"1649\",\"type\":\"Scatter\"},\"hover_glyph\":null,\"muted_glyph\":null,\"nonselection_glyph\":{\"id\":\"1650\",\"type\":\"Scatter\"},\"selection_glyph\":null,\"view\":{\"id\":\"1652\",\"type\":\"CDSView\"}},\"id\":\"1651\",\"type\":\"GlyphRenderer\"},{\"attributes\":{},\"id\":\"1626\",\"type\":\"LinearScale\"},{\"attributes\":{\"source\":{\"id\":\"1647\",\"type\":\"ColumnDataSource\"}},\"id\":\"1652\",\"type\":\"CDSView\"},{\"attributes\":{\"formatter\":{\"id\":\"1698\",\"type\":\"BasicTickFormatter\"},\"plot\":{\"id\":\"1618\",\"subtype\":\"Figure\",\"type\":\"Plot\"},\"ticker\":{\"id\":\"1629\",\"type\":\"BasicTicker\"}},\"id\":\"1628\",\"type\":\"LinearAxis\"},{\"attributes\":{},\"id\":\"1702\",\"type\":\"UnionRenderers\"},{\"attributes\":{},\"id\":\"1629\",\"type\":\"BasicTicker\"},{\"attributes\":{},\"id\":\"1703\",\"type\":\"Selection\"},{\"attributes\":{\"plot\":{\"id\":\"1618\",\"subtype\":\"Figure\",\"type\":\"Plot\"},\"ticker\":{\"id\":\"1629\",\"type\":\"BasicTicker\"}},\"id\":\"1632\",\"type\":\"Grid\"},{\"attributes\":{},\"id\":\"1698\",\"type\":\"BasicTickFormatter\"},{\"attributes\":{\"formatter\":{\"id\":\"1700\",\"type\":\"BasicTickFormatter\"},\"plot\":{\"id\":\"1618\",\"subtype\":\"Figure\",\"type\":\"Plot\"},\"ticker\":{\"id\":\"1634\",\"type\":\"BasicTicker\"}},\"id\":\"1633\",\"type\":\"LinearAxis\"},{\"attributes\":{},\"id\":\"1634\",\"type\":\"BasicTicker\"},{\"attributes\":{\"dimension\":1,\"plot\":{\"id\":\"1618\",\"subtype\":\"Figure\",\"type\":\"Plot\"},\"ticker\":{\"id\":\"1634\",\"type\":\"BasicTicker\"}},\"id\":\"1637\",\"type\":\"Grid\"}],\"root_ids\":[\"1618\"]},\"title\":\"Bokeh Application\",\"version\":\"1.0.2\"}};\n",
       "  var render_items = [{\"docid\":\"4c91b34d-0310-43c5-9d3d-c30c775e7bf7\",\"roots\":{\"1618\":\"6ac36d74-a13b-42b6-980d-1659234e9016\"}}];\n",
       "  root.Bokeh.embed.embed_items_notebook(docs_json, render_items);\n",
       "\n",
       "  }\n",
       "  if (root.Bokeh !== undefined) {\n",
       "    embed_document(root);\n",
       "  } else {\n",
       "    var attempts = 0;\n",
       "    var timer = setInterval(function(root) {\n",
       "      if (root.Bokeh !== undefined) {\n",
       "        embed_document(root);\n",
       "        clearInterval(timer);\n",
       "      }\n",
       "      attempts++;\n",
       "      if (attempts > 100) {\n",
       "        console.log(\"Bokeh: ERROR: Unable to run BokehJS code because BokehJS library is missing\");\n",
       "        clearInterval(timer);\n",
       "      }\n",
       "    }, 10, root)\n",
       "  }\n",
       "})(window);"
      ],
      "application/vnd.bokehjs_exec.v0+json": ""
     },
     "metadata": {
      "application/vnd.bokehjs_exec.v0+json": {
       "id": "1618"
      }
     },
     "output_type": "display_data"
    }
   ],
   "source": [
    "p = figure(tools=\"pan,wheel_zoom,reset,save\",\n",
    "           toolbar_location=\"above\",\n",
    "           title=\"word2vec T-SNE for most common words\")\n",
    "\n",
    "source = ColumnDataSource(data=dict(x1=words_top_wiki_tsne[:,0],\n",
    "                                    x2=words_top_wiki_tsne[:,1],\n",
    "                                    names=words_top_wiki))\n",
    "\n",
    "p.scatter(x=\"x1\", y=\"x2\", size=8, source=source)\n",
    "\n",
    "labels = LabelSet(x=\"x1\", y=\"x2\", text=\"names\", y_offset=6,\n",
    "                  text_font_size=\"8pt\", text_color=\"#555555\",\n",
    "                  source=source, text_align='center')\n",
    "p.add_layout(labels)\n",
    "\n",
    "show(p)"
   ]
  },
  {
   "cell_type": "code",
   "execution_count": 69,
   "metadata": {},
   "outputs": [
    {
     "data": {
      "text/plain": [
       "[('literature', 0.7547553777694702),\n",
       " ('dialect', 0.7514821290969849),\n",
       " ('languages', 0.7513620853424072),\n",
       " ('vocabulary', 0.7304395437240601),\n",
       " ('translation', 0.727062463760376),\n",
       " ('alphabet', 0.6846044063568115),\n",
       " ('nahuatl', 0.6816906929016113),\n",
       " ('spelling', 0.6800509691238403),\n",
       " ('malay', 0.6774647235870361),\n",
       " ('subtitles', 0.6732757091522217)]"
      ]
     },
     "execution_count": 69,
     "metadata": {},
     "output_type": "execute_result"
    }
   ],
   "source": [
    "model_wiki.wv.most_similar(\"language\")"
   ]
  },
  {
   "cell_type": "code",
   "execution_count": 70,
   "metadata": {},
   "outputs": [
    {
     "data": {
      "text/plain": [
       "[('college', 0.811711847782135),\n",
       " ('harvard', 0.7527514696121216),\n",
       " ('institute', 0.7425799369812012),\n",
       " ('graduate', 0.7194668650627136),\n",
       " ('yale', 0.7172673940658569),\n",
       " ('dartmouth', 0.716571033000946),\n",
       " ('seminary', 0.6851376295089722),\n",
       " ('undergraduate', 0.6823322772979736),\n",
       " ('princeton', 0.6766179800033569),\n",
       " ('berkeley', 0.6718764305114746)]"
      ]
     },
     "execution_count": 70,
     "metadata": {},
     "output_type": "execute_result"
    }
   ],
   "source": [
    "model_wiki.wv.most_similar(\"university\")"
   ]
  },
  {
   "cell_type": "code",
   "execution_count": null,
   "metadata": {},
   "outputs": [],
   "source": []
  }
 ],
 "metadata": {
  "anaconda-cloud": {},
  "kernelspec": {
   "display_name": "Python 3",
   "language": "python",
   "name": "python3"
  },
  "language_info": {
   "codemirror_mode": {
    "name": "ipython",
    "version": 3
   },
   "file_extension": ".py",
   "mimetype": "text/x-python",
   "name": "python",
   "nbconvert_exporter": "python",
   "pygments_lexer": "ipython3",
   "version": "3.7.1"
  }
 },
 "nbformat": 4,
 "nbformat_minor": 1
}
